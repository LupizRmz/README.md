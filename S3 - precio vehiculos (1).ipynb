{
  "metadata": {
    "ExecuteTimeLog": [
      {
        "duration": 828,
        "start_time": "2021-11-16T09:21:11.304Z"
      },
      {
        "duration": 893,
        "start_time": "2021-11-16T09:21:17.728Z"
      },
      {
        "duration": 1150,
        "start_time": "2021-11-16T09:21:29.568Z"
      },
      {
        "duration": 3,
        "start_time": "2021-11-16T09:24:14.495Z"
      },
      {
        "duration": 120,
        "start_time": "2021-11-16T09:24:46.630Z"
      },
      {
        "duration": 3,
        "start_time": "2021-11-16T09:28:27.882Z"
      },
      {
        "duration": 4,
        "start_time": "2021-11-16T09:29:54.281Z"
      },
      {
        "duration": 3,
        "start_time": "2021-11-16T09:30:45.936Z"
      },
      {
        "duration": 4,
        "start_time": "2021-11-16T09:31:06.300Z"
      },
      {
        "duration": 113,
        "start_time": "2021-11-16T09:31:37.208Z"
      },
      {
        "duration": 143,
        "start_time": "2021-11-16T09:31:48.656Z"
      },
      {
        "duration": 98,
        "start_time": "2021-11-16T09:31:55.678Z"
      },
      {
        "duration": 3,
        "start_time": "2021-11-16T09:32:08.535Z"
      },
      {
        "duration": 111,
        "start_time": "2021-11-16T09:32:10.120Z"
      },
      {
        "duration": 3,
        "start_time": "2021-11-16T09:32:15.732Z"
      },
      {
        "duration": 4,
        "start_time": "2021-11-16T09:32:29.423Z"
      },
      {
        "duration": 3,
        "start_time": "2021-11-16T10:03:03.074Z"
      },
      {
        "duration": 3,
        "start_time": "2021-11-16T10:10:01.288Z"
      },
      {
        "duration": 3,
        "start_time": "2021-11-16T10:10:46.923Z"
      },
      {
        "duration": 121,
        "start_time": "2021-11-16T10:37:46.494Z"
      },
      {
        "duration": 125,
        "start_time": "2021-11-16T10:38:20.632Z"
      },
      {
        "duration": 112,
        "start_time": "2021-11-16T10:46:53.001Z"
      },
      {
        "duration": 110,
        "start_time": "2021-11-16T10:48:25.775Z"
      },
      {
        "duration": 3,
        "start_time": "2021-11-16T10:50:18.720Z"
      },
      {
        "duration": 4,
        "start_time": "2021-11-16T10:50:37.649Z"
      },
      {
        "duration": 2,
        "start_time": "2021-11-16T10:50:51.884Z"
      },
      {
        "duration": 3,
        "start_time": "2021-11-16T10:51:56.237Z"
      },
      {
        "duration": 101,
        "start_time": "2021-11-16T10:53:13.791Z"
      },
      {
        "duration": 3,
        "start_time": "2021-11-16T10:55:59.186Z"
      },
      {
        "duration": 3,
        "start_time": "2021-11-16T10:56:10.751Z"
      },
      {
        "duration": 3,
        "start_time": "2021-11-16T10:56:49.038Z"
      },
      {
        "duration": 3,
        "start_time": "2021-11-16T10:56:49.174Z"
      },
      {
        "duration": 4,
        "start_time": "2021-11-16T10:56:49.414Z"
      },
      {
        "duration": 3,
        "start_time": "2021-11-16T10:56:49.680Z"
      },
      {
        "duration": 3,
        "start_time": "2021-11-16T10:56:50.370Z"
      },
      {
        "duration": 114,
        "start_time": "2021-11-16T10:59:34.518Z"
      },
      {
        "duration": 3,
        "start_time": "2021-11-16T11:01:41.201Z"
      },
      {
        "duration": 116,
        "start_time": "2021-11-16T11:01:48.754Z"
      },
      {
        "duration": 3,
        "start_time": "2021-11-16T11:02:16.685Z"
      },
      {
        "duration": 3,
        "start_time": "2021-11-16T11:02:19.479Z"
      },
      {
        "duration": 3,
        "start_time": "2021-11-16T11:02:47.067Z"
      },
      {
        "duration": 3,
        "start_time": "2021-11-16T11:02:49.353Z"
      },
      {
        "duration": 3,
        "start_time": "2021-11-16T11:03:07.835Z"
      },
      {
        "duration": 3,
        "start_time": "2021-11-16T11:03:07.953Z"
      },
      {
        "duration": 112,
        "start_time": "2021-11-16T11:07:52.072Z"
      },
      {
        "duration": 187,
        "start_time": "2021-11-16T11:09:23.468Z"
      },
      {
        "duration": 4,
        "start_time": "2021-11-16T11:10:01.455Z"
      },
      {
        "duration": 3,
        "start_time": "2021-11-16T11:10:05.069Z"
      },
      {
        "duration": 4,
        "start_time": "2021-11-16T11:10:13.376Z"
      },
      {
        "duration": 3,
        "start_time": "2021-11-16T11:10:14.434Z"
      },
      {
        "duration": 3,
        "start_time": "2021-11-16T11:10:22.853Z"
      },
      {
        "duration": 4,
        "start_time": "2021-11-16T11:27:29.279Z"
      },
      {
        "duration": 4,
        "start_time": "2021-11-16T11:29:08.919Z"
      },
      {
        "duration": 118,
        "start_time": "2021-11-16T11:29:46.703Z"
      },
      {
        "duration": 437,
        "start_time": "2021-11-16T11:36:02.181Z"
      },
      {
        "duration": 157,
        "start_time": "2021-11-16T11:36:14.388Z"
      },
      {
        "duration": 207,
        "start_time": "2021-11-16T11:47:15.898Z"
      },
      {
        "duration": 3,
        "start_time": "2021-11-16T11:53:52.092Z"
      },
      {
        "duration": 3,
        "start_time": "2021-11-16T11:53:52.236Z"
      },
      {
        "duration": 3,
        "start_time": "2021-11-16T11:59:12.005Z"
      },
      {
        "duration": 112,
        "start_time": "2021-11-16T12:00:33.446Z"
      },
      {
        "duration": 3,
        "start_time": "2021-11-16T12:02:14.453Z"
      },
      {
        "duration": 3,
        "start_time": "2021-11-16T12:02:39.512Z"
      },
      {
        "duration": 106,
        "start_time": "2021-11-16T12:03:03.460Z"
      }
    ],
    "toc": {
      "base_numbering": 1,
      "nav_menu": {},
      "number_sections": true,
      "sideBar": true,
      "skip_h1_title": false,
      "title_cell": "Table of Contents",
      "title_sidebar": "Contents",
      "toc_cell": false,
      "toc_position": {
        "height": "calc(100% - 180px)",
        "left": "10px",
        "top": "150px",
        "width": "365.222px"
      },
      "toc_section_display": true,
      "toc_window_display": true
    },
    "kernelspec": {
      "name": "python",
      "display_name": "Python (Pyodide)",
      "language": "python"
    },
    "language_info": {
      "codemirror_mode": {
        "name": "ipython",
        "version": 3
      },
      "file_extension": ".py",
      "mimetype": "text/x-python",
      "name": "python",
      "nbconvert_exporter": "python",
      "pygments_lexer": "ipython3",
      "version": "3.9.5"
    }
  },
  "nbformat_minor": 4,
  "nbformat": 4,
  "cells": [
    {
      "cell_type": "markdown",
      "source": "# ¿Qué vende un coche?\n\nEn este informe se presenta un anális de datos recopilados en los últimos años para determinar qué factores influyen en el precio de un vehículo. Estos datos provienen de los anuncios gratuitos de los vehiculos que se publican en el sitio web Crankshaft List.\n\nPara este análisis, primero se examinan los datos para corregirlos en caso de ser necesario, esto es indagar en busca de valores atípicos y entradas mal escritas para generar datos limpios. Después se observan los parámetros principales y finalmente se obtiene la influencia de los parámetros en el precio.",
      "metadata": {}
    },
    {
      "cell_type": "markdown",
      "source": "## Inicialización",
      "metadata": {}
    },
    {
      "cell_type": "code",
      "source": "# Cargar todas las librerías\nimport pandas as pd\nimport matplotlib.pyplot as plt \nimport numpy as np",
      "metadata": {
        "scrolled": true
      },
      "execution_count": 1,
      "outputs": []
    },
    {
      "cell_type": "markdown",
      "source": "### Cargar datos",
      "metadata": {}
    },
    {
      "cell_type": "code",
      "source": "# Cargar el archivo de datos en un DataFrame\ndf = pd.read_csv( '/datasets/vehicles_us.csv')",
      "metadata": {
        "scrolled": true
      },
      "execution_count": 2,
      "outputs": []
    },
    {
      "cell_type": "markdown",
      "source": "### Explorar datos iniciales",
      "metadata": {}
    },
    {
      "cell_type": "markdown",
      "source": "El dataset contiene los siguientes campos:\n- `price`\n- `model_year`\n- `model`\n- `condition`\n- `cylinders`\n- `fuel` — gasolina, diesel, etc.\n- `odometer` — el millaje del vehículo cuando el anuncio fue publicado\n- `transmission`\n- `paint_color`\n- `is_4wd` — si el vehículo tiene tracción a las 4 ruedas (tipo Booleano)\n- `date_posted` — la fecha en la que el anuncio fue publicado\n- `days_listed` — desde la publicación hasta que se elimina",
      "metadata": {}
    },
    {
      "cell_type": "code",
      "source": "#información general/resumida sobre el DataFrame\ndf.info()",
      "metadata": {
        "scrolled": true
      },
      "execution_count": 3,
      "outputs": [
        {
          "name": "stdout",
          "output_type": "stream",
          "text": "<class 'pandas.core.frame.DataFrame'>\n\nRangeIndex: 51525 entries, 0 to 51524\n\nData columns (total 13 columns):\n\n #   Column        Non-Null Count  Dtype  \n\n---  ------        --------------  -----  \n\n 0   price         51525 non-null  int64  \n\n 1   model_year    47906 non-null  float64\n\n 2   model         51525 non-null  object \n\n 3   condition     51525 non-null  object \n\n 4   cylinders     46265 non-null  float64\n\n 5   fuel          51525 non-null  object \n\n 6   odometer      43633 non-null  float64\n\n 7   transmission  51525 non-null  object \n\n 8   type          51525 non-null  object \n\n 9   paint_color   42258 non-null  object \n\n 10  is_4wd        25572 non-null  float64\n\n 11  date_posted   51525 non-null  object \n\n 12  days_listed   51525 non-null  int64  \n\ndtypes: float64(4), int64(2), object(7)\n\nmemory usage: 5.1+ MB\n"
        }
      ]
    },
    {
      "cell_type": "code",
      "source": "#vista previa de los datos\ndf.head(5)",
      "metadata": {},
      "execution_count": 4,
      "outputs": [
        {
          "execution_count": 4,
          "output_type": "execute_result",
          "data": {
            "text/html": [
              "<div>\n",
              "<style scoped>\n",
              "    .dataframe tbody tr th:only-of-type {\n",
              "        vertical-align: middle;\n",
              "    }\n",
              "\n",
              "    .dataframe tbody tr th {\n",
              "        vertical-align: top;\n",
              "    }\n",
              "\n",
              "    .dataframe thead th {\n",
              "        text-align: right;\n",
              "    }\n",
              "</style>\n",
              "<table border=\"1\" class=\"dataframe\">\n",
              "  <thead>\n",
              "    <tr style=\"text-align: right;\">\n",
              "      <th></th>\n",
              "      <th>price</th>\n",
              "      <th>model_year</th>\n",
              "      <th>model</th>\n",
              "      <th>condition</th>\n",
              "      <th>cylinders</th>\n",
              "      <th>fuel</th>\n",
              "      <th>odometer</th>\n",
              "      <th>transmission</th>\n",
              "      <th>type</th>\n",
              "      <th>paint_color</th>\n",
              "      <th>is_4wd</th>\n",
              "      <th>date_posted</th>\n",
              "      <th>days_listed</th>\n",
              "    </tr>\n",
              "  </thead>\n",
              "  <tbody>\n",
              "    <tr>\n",
              "      <th>0</th>\n",
              "      <td>9400</td>\n",
              "      <td>2011.0</td>\n",
              "      <td>bmw x5</td>\n",
              "      <td>good</td>\n",
              "      <td>6.0</td>\n",
              "      <td>gas</td>\n",
              "      <td>145000.0</td>\n",
              "      <td>automatic</td>\n",
              "      <td>SUV</td>\n",
              "      <td>NaN</td>\n",
              "      <td>1.0</td>\n",
              "      <td>2018-06-23</td>\n",
              "      <td>19</td>\n",
              "    </tr>\n",
              "    <tr>\n",
              "      <th>1</th>\n",
              "      <td>25500</td>\n",
              "      <td>NaN</td>\n",
              "      <td>ford f-150</td>\n",
              "      <td>good</td>\n",
              "      <td>6.0</td>\n",
              "      <td>gas</td>\n",
              "      <td>88705.0</td>\n",
              "      <td>automatic</td>\n",
              "      <td>pickup</td>\n",
              "      <td>white</td>\n",
              "      <td>1.0</td>\n",
              "      <td>2018-10-19</td>\n",
              "      <td>50</td>\n",
              "    </tr>\n",
              "    <tr>\n",
              "      <th>2</th>\n",
              "      <td>5500</td>\n",
              "      <td>2013.0</td>\n",
              "      <td>hyundai sonata</td>\n",
              "      <td>like new</td>\n",
              "      <td>4.0</td>\n",
              "      <td>gas</td>\n",
              "      <td>110000.0</td>\n",
              "      <td>automatic</td>\n",
              "      <td>sedan</td>\n",
              "      <td>red</td>\n",
              "      <td>NaN</td>\n",
              "      <td>2019-02-07</td>\n",
              "      <td>79</td>\n",
              "    </tr>\n",
              "    <tr>\n",
              "      <th>3</th>\n",
              "      <td>1500</td>\n",
              "      <td>2003.0</td>\n",
              "      <td>ford f-150</td>\n",
              "      <td>fair</td>\n",
              "      <td>8.0</td>\n",
              "      <td>gas</td>\n",
              "      <td>NaN</td>\n",
              "      <td>automatic</td>\n",
              "      <td>pickup</td>\n",
              "      <td>NaN</td>\n",
              "      <td>NaN</td>\n",
              "      <td>2019-03-22</td>\n",
              "      <td>9</td>\n",
              "    </tr>\n",
              "    <tr>\n",
              "      <th>4</th>\n",
              "      <td>14900</td>\n",
              "      <td>2017.0</td>\n",
              "      <td>chrysler 200</td>\n",
              "      <td>excellent</td>\n",
              "      <td>4.0</td>\n",
              "      <td>gas</td>\n",
              "      <td>80903.0</td>\n",
              "      <td>automatic</td>\n",
              "      <td>sedan</td>\n",
              "      <td>black</td>\n",
              "      <td>NaN</td>\n",
              "      <td>2019-04-02</td>\n",
              "      <td>28</td>\n",
              "    </tr>\n",
              "  </tbody>\n",
              "</table>\n",
              "</div>"
            ],
            "text/plain": [
              "   price  model_year           model  condition  cylinders fuel  odometer  \\\n",
              "0   9400      2011.0          bmw x5       good        6.0  gas  145000.0   \n",
              "1  25500         NaN      ford f-150       good        6.0  gas   88705.0   \n",
              "2   5500      2013.0  hyundai sonata   like new        4.0  gas  110000.0   \n",
              "3   1500      2003.0      ford f-150       fair        8.0  gas       NaN   \n",
              "4  14900      2017.0    chrysler 200  excellent        4.0  gas   80903.0   \n",
              "\n",
              "  transmission    type paint_color  is_4wd date_posted  days_listed  \n",
              "0    automatic     SUV         NaN     1.0  2018-06-23           19  \n",
              "1    automatic  pickup       white     1.0  2018-10-19           50  \n",
              "2    automatic   sedan         red     NaN  2019-02-07           79  \n",
              "3    automatic  pickup         NaN     NaN  2019-03-22            9  \n",
              "4    automatic   sedan       black     NaN  2019-04-02           28  "
            ]
          },
          "metadata": {}
        }
      ]
    },
    {
      "cell_type": "code",
      "source": "df.describe()",
      "metadata": {},
      "execution_count": 5,
      "outputs": [
        {
          "execution_count": 5,
          "output_type": "execute_result",
          "data": {
            "text/html": [
              "<div>\n",
              "<style scoped>\n",
              "    .dataframe tbody tr th:only-of-type {\n",
              "        vertical-align: middle;\n",
              "    }\n",
              "\n",
              "    .dataframe tbody tr th {\n",
              "        vertical-align: top;\n",
              "    }\n",
              "\n",
              "    .dataframe thead th {\n",
              "        text-align: right;\n",
              "    }\n",
              "</style>\n",
              "<table border=\"1\" class=\"dataframe\">\n",
              "  <thead>\n",
              "    <tr style=\"text-align: right;\">\n",
              "      <th></th>\n",
              "      <th>price</th>\n",
              "      <th>model_year</th>\n",
              "      <th>cylinders</th>\n",
              "      <th>odometer</th>\n",
              "      <th>is_4wd</th>\n",
              "      <th>days_listed</th>\n",
              "    </tr>\n",
              "  </thead>\n",
              "  <tbody>\n",
              "    <tr>\n",
              "      <th>count</th>\n",
              "      <td>51525.000000</td>\n",
              "      <td>47906.000000</td>\n",
              "      <td>46265.000000</td>\n",
              "      <td>43633.000000</td>\n",
              "      <td>25572.0</td>\n",
              "      <td>51525.00000</td>\n",
              "    </tr>\n",
              "    <tr>\n",
              "      <th>mean</th>\n",
              "      <td>12132.464920</td>\n",
              "      <td>2009.750470</td>\n",
              "      <td>6.125235</td>\n",
              "      <td>115553.461738</td>\n",
              "      <td>1.0</td>\n",
              "      <td>39.55476</td>\n",
              "    </tr>\n",
              "    <tr>\n",
              "      <th>std</th>\n",
              "      <td>10040.803015</td>\n",
              "      <td>6.282065</td>\n",
              "      <td>1.660360</td>\n",
              "      <td>65094.611341</td>\n",
              "      <td>0.0</td>\n",
              "      <td>28.20427</td>\n",
              "    </tr>\n",
              "    <tr>\n",
              "      <th>min</th>\n",
              "      <td>1.000000</td>\n",
              "      <td>1908.000000</td>\n",
              "      <td>3.000000</td>\n",
              "      <td>0.000000</td>\n",
              "      <td>1.0</td>\n",
              "      <td>0.00000</td>\n",
              "    </tr>\n",
              "    <tr>\n",
              "      <th>25%</th>\n",
              "      <td>5000.000000</td>\n",
              "      <td>2006.000000</td>\n",
              "      <td>4.000000</td>\n",
              "      <td>70000.000000</td>\n",
              "      <td>1.0</td>\n",
              "      <td>19.00000</td>\n",
              "    </tr>\n",
              "    <tr>\n",
              "      <th>50%</th>\n",
              "      <td>9000.000000</td>\n",
              "      <td>2011.000000</td>\n",
              "      <td>6.000000</td>\n",
              "      <td>113000.000000</td>\n",
              "      <td>1.0</td>\n",
              "      <td>33.00000</td>\n",
              "    </tr>\n",
              "    <tr>\n",
              "      <th>75%</th>\n",
              "      <td>16839.000000</td>\n",
              "      <td>2014.000000</td>\n",
              "      <td>8.000000</td>\n",
              "      <td>155000.000000</td>\n",
              "      <td>1.0</td>\n",
              "      <td>53.00000</td>\n",
              "    </tr>\n",
              "    <tr>\n",
              "      <th>max</th>\n",
              "      <td>375000.000000</td>\n",
              "      <td>2019.000000</td>\n",
              "      <td>12.000000</td>\n",
              "      <td>990000.000000</td>\n",
              "      <td>1.0</td>\n",
              "      <td>271.00000</td>\n",
              "    </tr>\n",
              "  </tbody>\n",
              "</table>\n",
              "</div>"
            ],
            "text/plain": [
              "               price    model_year     cylinders       odometer   is_4wd  \\\n",
              "count   51525.000000  47906.000000  46265.000000   43633.000000  25572.0   \n",
              "mean    12132.464920   2009.750470      6.125235  115553.461738      1.0   \n",
              "std     10040.803015      6.282065      1.660360   65094.611341      0.0   \n",
              "min         1.000000   1908.000000      3.000000       0.000000      1.0   \n",
              "25%      5000.000000   2006.000000      4.000000   70000.000000      1.0   \n",
              "50%      9000.000000   2011.000000      6.000000  113000.000000      1.0   \n",
              "75%     16839.000000   2014.000000      8.000000  155000.000000      1.0   \n",
              "max    375000.000000   2019.000000     12.000000  990000.000000      1.0   \n",
              "\n",
              "       days_listed  \n",
              "count  51525.00000  \n",
              "mean      39.55476  \n",
              "std       28.20427  \n",
              "min        0.00000  \n",
              "25%       19.00000  \n",
              "50%       33.00000  \n",
              "75%       53.00000  \n",
              "max      271.00000  "
            ]
          },
          "metadata": {}
        }
      ]
    },
    {
      "cell_type": "markdown",
      "source": "La información muestra valores ausentes y errores en el tipo de dato de la columna con fechas.",
      "metadata": {}
    },
    {
      "cell_type": "markdown",
      "source": "### Conclusiones y siguientes pasos\n\nLa información previa muestra que hay valores ausentes en las columnas 'model_year', 'cylinders', 'odometer', 'paint_color' y en 'is_4wd'. En esta ultima columna, faltan más de la mitad de los valores por lo que hay que analizar los valores de esta columna.\n\nLos valores de la columna 'date_posted' no son de tipo fecha; hay que cambiar el tipo de dato\n\nHay que investigar los valores de las columnas, 'condition', 'fuel', 'transmission', 'type' y 'paint_color'  ya que pueden estar escritos de diferente forma refiriendose a lo mismo.",
      "metadata": {}
    },
    {
      "cell_type": "markdown",
      "source": "## Analizar valores de texto repetitivos\n\nSe investigan los valores de las columnas 'is_4wd','model', 'condition', 'fuel', 'transmission', 'type' y 'paint_color'.",
      "metadata": {}
    },
    {
      "cell_type": "code",
      "source": "for column in ['condition','fuel','transmission','type','paint_color','model']:\n    print('valores en la columna',column,':')\n    print(df[column].sort_values().unique())",
      "metadata": {},
      "execution_count": 6,
      "outputs": [
        {
          "name": "stdout",
          "output_type": "stream",
          "text": "valores en la columna condition :\n\n['excellent' 'fair' 'good' 'like new' 'new' 'salvage']\n\nvalores en la columna fuel :\n\n['diesel' 'electric' 'gas' 'hybrid' 'other']\n\nvalores en la columna transmission :\n\n['automatic' 'manual' 'other']\n\nvalores en la columna type :\n\n['SUV' 'bus' 'convertible' 'coupe' 'hatchback' 'mini-van' 'offroad'\n\n 'other' 'pickup' 'sedan' 'truck' 'van' 'wagon']\n\nvalores en la columna paint_color :\n\n['black' 'blue' 'brown' 'custom' 'green' 'grey' 'orange' 'purple' 'red'\n\n 'silver' 'white' 'yellow' nan]\n\nvalores en la columna model :\n\n['acura tl' 'bmw x5' 'buick enclave' 'cadillac escalade'\n\n 'chevrolet camaro' 'chevrolet camaro lt coupe 2d' 'chevrolet colorado'\n\n 'chevrolet corvette' 'chevrolet cruze' 'chevrolet equinox'\n\n 'chevrolet impala' 'chevrolet malibu' 'chevrolet silverado'\n\n 'chevrolet silverado 1500' 'chevrolet silverado 1500 crew'\n\n 'chevrolet silverado 2500hd' 'chevrolet silverado 3500hd'\n\n 'chevrolet suburban' 'chevrolet tahoe' 'chevrolet trailblazer'\n\n 'chevrolet traverse' 'chrysler 200' 'chrysler 300'\n\n 'chrysler town & country' 'dodge charger' 'dodge dakota'\n\n 'dodge grand caravan' 'ford econoline' 'ford edge' 'ford escape'\n\n 'ford expedition' 'ford explorer' 'ford f-150' 'ford f-250'\n\n 'ford f-250 sd' 'ford f-250 super duty' 'ford f-350 sd' 'ford f150'\n\n 'ford f150 supercrew cab xlt' 'ford f250' 'ford f250 super duty'\n\n 'ford f350' 'ford f350 super duty' 'ford focus' 'ford focus se'\n\n 'ford fusion' 'ford fusion se' 'ford mustang' 'ford mustang gt coupe 2d'\n\n 'ford ranger' 'ford taurus' 'gmc acadia' 'gmc sierra' 'gmc sierra 1500'\n\n 'gmc sierra 2500hd' 'gmc yukon' 'honda accord' 'honda civic'\n\n 'honda civic lx' 'honda cr-v' 'honda odyssey' 'honda pilot'\n\n 'hyundai elantra' 'hyundai santa fe' 'hyundai sonata' 'jeep cherokee'\n\n 'jeep grand cherokee' 'jeep grand cherokee laredo' 'jeep liberty'\n\n 'jeep wrangler' 'jeep wrangler unlimited' 'kia sorento' 'kia soul'\n\n 'mercedes-benz benze sprinter 2500' 'nissan altima' 'nissan frontier'\n\n 'nissan frontier crew cab sv' 'nissan maxima' 'nissan murano'\n\n 'nissan rogue' 'nissan sentra' 'nissan versa' 'ram 1500' 'ram 2500'\n\n 'ram 3500' 'subaru forester' 'subaru impreza' 'subaru outback'\n\n 'toyota 4runner' 'toyota camry' 'toyota camry le' 'toyota corolla'\n\n 'toyota highlander' 'toyota prius' 'toyota rav4' 'toyota sienna'\n\n 'toyota tacoma' 'toyota tundra' 'volkswagen jetta' 'volkswagen passat']\n"
        }
      ]
    },
    {
      "cell_type": "markdown",
      "source": "No se encuentran textos extraños en la mayoria de las columnas por lo que no se modifican valores con excepción de la columna 'model'. En esta última se estandarizan los valores para mejorar el análisis",
      "metadata": {}
    },
    {
      "cell_type": "markdown",
      "source": "## Tratar los valores ausentes y reducir los datos repetitivos",
      "metadata": {}
    },
    {
      "cell_type": "markdown",
      "source": "Se corrigen datos repetitivos en columna 'model'",
      "metadata": {}
    },
    {
      "cell_type": "code",
      "source": "#función para cambiar datos de columna 'model'\ndef replace_wrong_values(wrong_values, correct_value): \n    for wrong_value in wrong_values:\n        df['model'] = df['model'].replace(wrong_value, correct_value) ",
      "metadata": {
        "scrolled": true
      },
      "execution_count": 7,
      "outputs": []
    },
    {
      "cell_type": "code",
      "source": "#listas de agrupación\nchevrolet =['chevrolet silverado 1500','chevrolet silverado 2500hd','chevrolet silverado 3500hd']\nford_150 = ['ford f150', 'ford f150 supercrew cab xlt']\nford_250 = ['ford f-250 sd','ford f-250 super duty','ford f250','ford f250 super duty']\nford_350 = ['ford f-350 sd','ford f350', 'ford f350 super duty']\n\n#reemplazar valores de listas\nreplace_wrong_values(chevrolet,'chevrolet silverado')\nreplace_wrong_values(ford_150,'ford f-150')\nreplace_wrong_values(ford_250,'ford f-250')\nreplace_wrong_values(ford_350,'ford f-350')\n\n#reemplazar valores únicos\ndf['model'] = df['model'].replace('chevrolet camaro lt coupe 2d', 'chevrolet camaro') \ndf['model'] = df['model'].replace('ford focus se','ford focus')\ndf['model'] = df['model'].replace('ford fusion se','ford fusion')\ndf['model'] = df['model'].replace('ford mustang gt coupe 2d','ford mustang')\ndf['model'] = df['model'].replace('honda civic lx','honda civic')\ndf['model'] = df['model'].replace('jeep wrangler unlimited','jeep wrangler')\ndf['model'] = df['model'].replace('nissan frontier crew cab sv','nissan frontier')\ndf['model'] = df['model'].replace('jeep grand cherokee laredo','jeep grand cherokee')\ndf['model'] = df['model'].replace('toyota camry le','toyota camry')",
      "metadata": {
        "scrolled": true
      },
      "execution_count": 8,
      "outputs": []
    },
    {
      "cell_type": "markdown",
      "source": "Se analizan las columnas con valores ausentes y se obtienen los porcentajes a modificar",
      "metadata": {}
    },
    {
      "cell_type": "code",
      "source": "total_values = 51525\n\nfor column in ['is_4wd','model_year','cylinders','odometer']:\n    print('valores en la columna',column,':')\n    print(df[column].sort_values().unique())\n    \n    isna_sum = df[column].isna().sum()\n    print('El porcentaje de valores ausentes en',column,'es de ', \n          round(isna_sum/total_values*100,2),'%')\n    print()\n    \n\nprint('El porcentaje de valores ausentes en paint_color es de ', \n      round( df['paint_color'].isna().sum()/total_values*100,2),'%')",
      "metadata": {},
      "execution_count": 9,
      "outputs": [
        {
          "name": "stdout",
          "output_type": "stream",
          "text": "valores en la columna is_4wd :\n\n[ 1. nan]\n\nEl porcentaje de valores ausentes en is_4wd es de  50.37 %\n\n\n\nvalores en la columna model_year :\n\n[1908. 1929. 1936. 1948. 1949. 1954. 1955. 1958. 1960. 1961. 1962. 1963.\n\n 1964. 1965. 1966. 1967. 1968. 1969. 1970. 1971. 1972. 1973. 1974. 1975.\n\n 1976. 1977. 1978. 1979. 1980. 1981. 1982. 1983. 1984. 1985. 1986. 1987.\n\n 1988. 1989. 1990. 1991. 1992. 1993. 1994. 1995. 1996. 1997. 1998. 1999.\n\n 2000. 2001. 2002. 2003. 2004. 2005. 2006. 2007. 2008. 2009. 2010. 2011.\n\n 2012. 2013. 2014. 2015. 2016. 2017. 2018. 2019.   nan]\n\nEl porcentaje de valores ausentes en model_year es de  7.02 %\n\n\n\nvalores en la columna cylinders :\n\n[ 3.  4.  5.  6.  8. 10. 12. nan]\n\nEl porcentaje de valores ausentes en cylinders es de  10.21 %\n\n\n\nvalores en la columna odometer :\n\n[0.0e+00 1.0e+00 2.0e+00 ... 9.8e+05 9.9e+05     nan]\n\nEl porcentaje de valores ausentes en odometer es de  15.32 %\n\n\n\nEl porcentaje de valores ausentes en paint_color es de  17.99 %\n"
        }
      ]
    },
    {
      "cell_type": "markdown",
      "source": "El porcentaje de valores ausentes por columna es significativamente alto por lo cual no se pueden eliminar todas estas filas.\n\nLa columna 'is_4wd' unicamente tiene dos valores que son 1 (True) y Nan; por lo que se asume que nan = 0 ó False.\n\nEn la columna 'paint_color' se establecen los datos desconocidos como 'unknown'\n\nEn las demás columnas no se observan datos extraños.",
      "metadata": {}
    },
    {
      "cell_type": "code",
      "source": "#Cambiar Nan a 0\ndf['is_4wd'] = df['is_4wd'].fillna(0)\n\n#Cambiar valores ausentes a 'unknown'\ndf['paint_color'] = df['paint_color'].fillna('unknown')",
      "metadata": {
        "scrolled": true
      },
      "execution_count": 10,
      "outputs": []
    },
    {
      "cell_type": "markdown",
      "source": "En la columna 'odometer', se establece como valor representativo la mediana de todas las filas de cada año para llenar los valores ausentes.\n\nEn la columna'cylinders' se establece como valor representativo la moda de todas las filas de cada tipo de vehiculo.\n\nEn la columna 'model_year' se establecen como valor representativo la moda de todas las filas de cierto rango de millaje.",
      "metadata": {}
    },
    {
      "cell_type": "code",
      "source": "#Filas donde se desconoce 'model_year' y 'odometer'\nuseless_rows = df[df['model_year'].isna() & df['odometer'].isna()]['price'].count()\nprint('Porcentaje de filas sin datos de año de modelo y millaje: ',round(useless_rows/total_values*100,2),'%')",
      "metadata": {
        "scrolled": true
      },
      "execution_count": 11,
      "outputs": [
        {
          "name": "stdout",
          "output_type": "stream",
          "text": "Porcentaje de filas sin datos de año de modelo y millaje:  1.07 %\n"
        }
      ]
    },
    {
      "cell_type": "markdown",
      "source": "Los anuncios donde no se sabe el año del modelo ni el millaje no brindan información apta para el analisis. Los datos de 'model_year' se usaran como referencia para llenar 'odometer' y viceversa; asimismo, es un porcentaje bajo de datos por lo que se eliminan.",
      "metadata": {}
    },
    {
      "cell_type": "code",
      "source": "df.drop(df[df['model_year'].isna() & df['odometer'].isna()].index,inplace=True)",
      "metadata": {
        "scrolled": true
      },
      "execution_count": 12,
      "outputs": []
    },
    {
      "cell_type": "code",
      "source": "df['odometer'].describe()",
      "metadata": {},
      "execution_count": 13,
      "outputs": [
        {
          "execution_count": 13,
          "output_type": "execute_result",
          "data": {
            "text/plain": [
              "count     43633.000000\n",
              "mean     115553.461738\n",
              "std       65094.611341\n",
              "min           0.000000\n",
              "25%       70000.000000\n",
              "50%      113000.000000\n",
              "75%      155000.000000\n",
              "max      990000.000000\n",
              "Name: odometer, dtype: float64"
            ]
          },
          "metadata": {}
        }
      ]
    },
    {
      "cell_type": "code",
      "source": "#escribir función que obtenga el rango de millaje\ndef odom_range(odometer):\n    if odometer == 0: return 'odom = 0'\n    elif odometer <=50000:  return '0 < odom <= 50,000'\n    elif odometer <=100000: return '50,000 < odom <= 100,000'\n    elif odometer <=150000: return '100,000 < odom <= 150,000'\n    elif odometer <=200000: return '150,000 < odom <= 200,000'\n    elif odometer <=250000: return '200,000 < odom <= 250,000'\n    elif odometer <=300000: return '250,000 < odom <= 300,000'\n    elif odometer <=350000: return '300,000 < odom <= 350,000'\n    elif odometer <=400000: return '350,000 < odom <= 400,000'\n    elif odometer <=450000: return '400,000 < odom <= 450,000'\n    elif odometer <=500000: return '450,000 < odom <= 500,000'\n    elif odometer <=550000: return '500,000 < odom <= 550,000'\n    elif odometer <=600000: return '550,000 < odom <= 600,000'\n    elif odometer <=650000: return '600,000 < odom <= 650,000'\n    elif odometer <=700000: return '650,000 < odom <= 700,000'\n    elif odometer <=750000: return '700,000 < odom <= 750,000'\n    elif odometer <=800000: return '750,000 < odom <= 800,000'\n    elif odometer <=850000: return '800,000 < odom <= 850,000'\n    elif odometer <=900000: return '850,000 < odom <= 900,000'\n    else:                   return 'odom > 900,000'\n    \n\n#comprobar función\nfor i in [0,55000,125000,852345,951000]:\n    print(odom_range(i))",
      "metadata": {
        "scrolled": true
      },
      "execution_count": 14,
      "outputs": [
        {
          "name": "stdout",
          "output_type": "stream",
          "text": "odom = 0\n\n50,000 < odom <= 100,000\n\n100,000 < odom <= 150,000\n\n850,000 < odom <= 900,000\n\nodom > 900,000\n"
        }
      ]
    },
    {
      "cell_type": "code",
      "source": "# Crear una nueva columna basada en la función\ndf ['odom_range'] = df ['odometer'].apply(odom_range)\n#ver nueva columna\ndf.head()",
      "metadata": {
        "scrolled": true
      },
      "execution_count": 15,
      "outputs": [
        {
          "execution_count": 15,
          "output_type": "execute_result",
          "data": {
            "text/html": [
              "<div>\n",
              "<style scoped>\n",
              "    .dataframe tbody tr th:only-of-type {\n",
              "        vertical-align: middle;\n",
              "    }\n",
              "\n",
              "    .dataframe tbody tr th {\n",
              "        vertical-align: top;\n",
              "    }\n",
              "\n",
              "    .dataframe thead th {\n",
              "        text-align: right;\n",
              "    }\n",
              "</style>\n",
              "<table border=\"1\" class=\"dataframe\">\n",
              "  <thead>\n",
              "    <tr style=\"text-align: right;\">\n",
              "      <th></th>\n",
              "      <th>price</th>\n",
              "      <th>model_year</th>\n",
              "      <th>model</th>\n",
              "      <th>condition</th>\n",
              "      <th>cylinders</th>\n",
              "      <th>fuel</th>\n",
              "      <th>odometer</th>\n",
              "      <th>transmission</th>\n",
              "      <th>type</th>\n",
              "      <th>paint_color</th>\n",
              "      <th>is_4wd</th>\n",
              "      <th>date_posted</th>\n",
              "      <th>days_listed</th>\n",
              "      <th>odom_range</th>\n",
              "    </tr>\n",
              "  </thead>\n",
              "  <tbody>\n",
              "    <tr>\n",
              "      <th>0</th>\n",
              "      <td>9400</td>\n",
              "      <td>2011.0</td>\n",
              "      <td>bmw x5</td>\n",
              "      <td>good</td>\n",
              "      <td>6.0</td>\n",
              "      <td>gas</td>\n",
              "      <td>145000.0</td>\n",
              "      <td>automatic</td>\n",
              "      <td>SUV</td>\n",
              "      <td>unknown</td>\n",
              "      <td>1.0</td>\n",
              "      <td>2018-06-23</td>\n",
              "      <td>19</td>\n",
              "      <td>100,000 &lt; odom &lt;= 150,000</td>\n",
              "    </tr>\n",
              "    <tr>\n",
              "      <th>1</th>\n",
              "      <td>25500</td>\n",
              "      <td>NaN</td>\n",
              "      <td>ford f-150</td>\n",
              "      <td>good</td>\n",
              "      <td>6.0</td>\n",
              "      <td>gas</td>\n",
              "      <td>88705.0</td>\n",
              "      <td>automatic</td>\n",
              "      <td>pickup</td>\n",
              "      <td>white</td>\n",
              "      <td>1.0</td>\n",
              "      <td>2018-10-19</td>\n",
              "      <td>50</td>\n",
              "      <td>50,000 &lt; odom &lt;= 100,000</td>\n",
              "    </tr>\n",
              "    <tr>\n",
              "      <th>2</th>\n",
              "      <td>5500</td>\n",
              "      <td>2013.0</td>\n",
              "      <td>hyundai sonata</td>\n",
              "      <td>like new</td>\n",
              "      <td>4.0</td>\n",
              "      <td>gas</td>\n",
              "      <td>110000.0</td>\n",
              "      <td>automatic</td>\n",
              "      <td>sedan</td>\n",
              "      <td>red</td>\n",
              "      <td>0.0</td>\n",
              "      <td>2019-02-07</td>\n",
              "      <td>79</td>\n",
              "      <td>100,000 &lt; odom &lt;= 150,000</td>\n",
              "    </tr>\n",
              "    <tr>\n",
              "      <th>3</th>\n",
              "      <td>1500</td>\n",
              "      <td>2003.0</td>\n",
              "      <td>ford f-150</td>\n",
              "      <td>fair</td>\n",
              "      <td>8.0</td>\n",
              "      <td>gas</td>\n",
              "      <td>NaN</td>\n",
              "      <td>automatic</td>\n",
              "      <td>pickup</td>\n",
              "      <td>unknown</td>\n",
              "      <td>0.0</td>\n",
              "      <td>2019-03-22</td>\n",
              "      <td>9</td>\n",
              "      <td>odom &gt; 900,000</td>\n",
              "    </tr>\n",
              "    <tr>\n",
              "      <th>4</th>\n",
              "      <td>14900</td>\n",
              "      <td>2017.0</td>\n",
              "      <td>chrysler 200</td>\n",
              "      <td>excellent</td>\n",
              "      <td>4.0</td>\n",
              "      <td>gas</td>\n",
              "      <td>80903.0</td>\n",
              "      <td>automatic</td>\n",
              "      <td>sedan</td>\n",
              "      <td>black</td>\n",
              "      <td>0.0</td>\n",
              "      <td>2019-04-02</td>\n",
              "      <td>28</td>\n",
              "      <td>50,000 &lt; odom &lt;= 100,000</td>\n",
              "    </tr>\n",
              "  </tbody>\n",
              "</table>\n",
              "</div>"
            ],
            "text/plain": [
              "   price  model_year           model  condition  cylinders fuel  odometer  \\\n",
              "0   9400      2011.0          bmw x5       good        6.0  gas  145000.0   \n",
              "1  25500         NaN      ford f-150       good        6.0  gas   88705.0   \n",
              "2   5500      2013.0  hyundai sonata   like new        4.0  gas  110000.0   \n",
              "3   1500      2003.0      ford f-150       fair        8.0  gas       NaN   \n",
              "4  14900      2017.0    chrysler 200  excellent        4.0  gas   80903.0   \n",
              "\n",
              "  transmission    type paint_color  is_4wd date_posted  days_listed  \\\n",
              "0    automatic     SUV     unknown     1.0  2018-06-23           19   \n",
              "1    automatic  pickup       white     1.0  2018-10-19           50   \n",
              "2    automatic   sedan         red     0.0  2019-02-07           79   \n",
              "3    automatic  pickup     unknown     0.0  2019-03-22            9   \n",
              "4    automatic   sedan       black     0.0  2019-04-02           28   \n",
              "\n",
              "                  odom_range  \n",
              "0  100,000 < odom <= 150,000  \n",
              "1   50,000 < odom <= 100,000  \n",
              "2  100,000 < odom <= 150,000  \n",
              "3             odom > 900,000  \n",
              "4   50,000 < odom <= 100,000  "
            ]
          },
          "metadata": {}
        }
      ]
    },
    {
      "cell_type": "code",
      "source": "odom_median = df.groupby('model_year')['odometer'].transform('median') \ndf['odometer'].fillna(odom_median, inplace=True) \n\ncyl_mode = df.groupby('type')['cylinders'].transform(lambda x: x.mode()[0])\ndf['cylinders'].fillna(cyl_mode, inplace=True) \n\nmodel_year_mode = df.groupby('odom_range')['model_year'].transform(lambda x: x.mode()[0])\ndf['model_year'].fillna(model_year_mode, inplace=True) ",
      "metadata": {},
      "execution_count": 16,
      "outputs": []
    },
    {
      "cell_type": "code",
      "source": "df.isna().sum()",
      "metadata": {},
      "execution_count": 17,
      "outputs": [
        {
          "execution_count": 17,
          "output_type": "execute_result",
          "data": {
            "text/plain": [
              "price           0\n",
              "model_year      0\n",
              "model           0\n",
              "condition       0\n",
              "cylinders       0\n",
              "fuel            0\n",
              "odometer        1\n",
              "transmission    0\n",
              "type            0\n",
              "paint_color     0\n",
              "is_4wd          0\n",
              "date_posted     0\n",
              "days_listed     0\n",
              "odom_range      0\n",
              "dtype: int64"
            ]
          },
          "metadata": {}
        }
      ]
    },
    {
      "cell_type": "code",
      "source": "#buscar valores ausentes en columna odometer\ndf.query('odometer.isna()')",
      "metadata": {
        "scrolled": true
      },
      "execution_count": 18,
      "outputs": [
        {
          "execution_count": 18,
          "output_type": "execute_result",
          "data": {
            "text/html": [
              "<div>\n",
              "<style scoped>\n",
              "    .dataframe tbody tr th:only-of-type {\n",
              "        vertical-align: middle;\n",
              "    }\n",
              "\n",
              "    .dataframe tbody tr th {\n",
              "        vertical-align: top;\n",
              "    }\n",
              "\n",
              "    .dataframe thead th {\n",
              "        text-align: right;\n",
              "    }\n",
              "</style>\n",
              "<table border=\"1\" class=\"dataframe\">\n",
              "  <thead>\n",
              "    <tr style=\"text-align: right;\">\n",
              "      <th></th>\n",
              "      <th>price</th>\n",
              "      <th>model_year</th>\n",
              "      <th>model</th>\n",
              "      <th>condition</th>\n",
              "      <th>cylinders</th>\n",
              "      <th>fuel</th>\n",
              "      <th>odometer</th>\n",
              "      <th>transmission</th>\n",
              "      <th>type</th>\n",
              "      <th>paint_color</th>\n",
              "      <th>is_4wd</th>\n",
              "      <th>date_posted</th>\n",
              "      <th>days_listed</th>\n",
              "      <th>odom_range</th>\n",
              "    </tr>\n",
              "  </thead>\n",
              "  <tbody>\n",
              "    <tr>\n",
              "      <th>45694</th>\n",
              "      <td>18000</td>\n",
              "      <td>1929.0</td>\n",
              "      <td>ford f-150</td>\n",
              "      <td>good</td>\n",
              "      <td>8.0</td>\n",
              "      <td>gas</td>\n",
              "      <td>NaN</td>\n",
              "      <td>manual</td>\n",
              "      <td>other</td>\n",
              "      <td>silver</td>\n",
              "      <td>0.0</td>\n",
              "      <td>2018-11-18</td>\n",
              "      <td>59</td>\n",
              "      <td>odom &gt; 900,000</td>\n",
              "    </tr>\n",
              "  </tbody>\n",
              "</table>\n",
              "</div>"
            ],
            "text/plain": [
              "       price  model_year       model condition  cylinders fuel  odometer  \\\n",
              "45694  18000      1929.0  ford f-150      good        8.0  gas       NaN   \n",
              "\n",
              "      transmission   type paint_color  is_4wd date_posted  days_listed  \\\n",
              "45694       manual  other      silver     0.0  2018-11-18           59   \n",
              "\n",
              "           odom_range  \n",
              "45694  odom > 900,000  "
            ]
          },
          "metadata": {}
        }
      ]
    },
    {
      "cell_type": "code",
      "source": "#investigar fila\ndf.query('model_year == 1929')",
      "metadata": {
        "scrolled": true
      },
      "execution_count": 19,
      "outputs": [
        {
          "execution_count": 19,
          "output_type": "execute_result",
          "data": {
            "text/html": [
              "<div>\n",
              "<style scoped>\n",
              "    .dataframe tbody tr th:only-of-type {\n",
              "        vertical-align: middle;\n",
              "    }\n",
              "\n",
              "    .dataframe tbody tr th {\n",
              "        vertical-align: top;\n",
              "    }\n",
              "\n",
              "    .dataframe thead th {\n",
              "        text-align: right;\n",
              "    }\n",
              "</style>\n",
              "<table border=\"1\" class=\"dataframe\">\n",
              "  <thead>\n",
              "    <tr style=\"text-align: right;\">\n",
              "      <th></th>\n",
              "      <th>price</th>\n",
              "      <th>model_year</th>\n",
              "      <th>model</th>\n",
              "      <th>condition</th>\n",
              "      <th>cylinders</th>\n",
              "      <th>fuel</th>\n",
              "      <th>odometer</th>\n",
              "      <th>transmission</th>\n",
              "      <th>type</th>\n",
              "      <th>paint_color</th>\n",
              "      <th>is_4wd</th>\n",
              "      <th>date_posted</th>\n",
              "      <th>days_listed</th>\n",
              "      <th>odom_range</th>\n",
              "    </tr>\n",
              "  </thead>\n",
              "  <tbody>\n",
              "    <tr>\n",
              "      <th>45694</th>\n",
              "      <td>18000</td>\n",
              "      <td>1929.0</td>\n",
              "      <td>ford f-150</td>\n",
              "      <td>good</td>\n",
              "      <td>8.0</td>\n",
              "      <td>gas</td>\n",
              "      <td>NaN</td>\n",
              "      <td>manual</td>\n",
              "      <td>other</td>\n",
              "      <td>silver</td>\n",
              "      <td>0.0</td>\n",
              "      <td>2018-11-18</td>\n",
              "      <td>59</td>\n",
              "      <td>odom &gt; 900,000</td>\n",
              "    </tr>\n",
              "  </tbody>\n",
              "</table>\n",
              "</div>"
            ],
            "text/plain": [
              "       price  model_year       model condition  cylinders fuel  odometer  \\\n",
              "45694  18000      1929.0  ford f-150      good        8.0  gas       NaN   \n",
              "\n",
              "      transmission   type paint_color  is_4wd date_posted  days_listed  \\\n",
              "45694       manual  other      silver     0.0  2018-11-18           59   \n",
              "\n",
              "           odom_range  \n",
              "45694  odom > 900,000  "
            ]
          },
          "metadata": {}
        }
      ]
    },
    {
      "cell_type": "markdown",
      "source": "Unicamente hay una fila donde el vehiculo es un modelo del año 1929; no hay valores que se tomen como referencia, por lo que se elimina esta fila. ",
      "metadata": {}
    },
    {
      "cell_type": "code",
      "source": "#eliminar fila\ndf = df.dropna(subset=['odometer'])",
      "metadata": {},
      "execution_count": 20,
      "outputs": []
    },
    {
      "cell_type": "code",
      "source": "#verificar cambios\ndf.info()\ndf.head(10)",
      "metadata": {},
      "execution_count": 21,
      "outputs": [
        {
          "name": "stdout",
          "output_type": "stream",
          "text": "<class 'pandas.core.frame.DataFrame'>\n\nInt64Index: 50975 entries, 0 to 51524\n\nData columns (total 14 columns):\n\n #   Column        Non-Null Count  Dtype  \n\n---  ------        --------------  -----  \n\n 0   price         50975 non-null  int64  \n\n 1   model_year    50975 non-null  float64\n\n 2   model         50975 non-null  object \n\n 3   condition     50975 non-null  object \n\n 4   cylinders     50975 non-null  float64\n\n 5   fuel          50975 non-null  object \n\n 6   odometer      50975 non-null  float64\n\n 7   transmission  50975 non-null  object \n\n 8   type          50975 non-null  object \n\n 9   paint_color   50975 non-null  object \n\n 10  is_4wd        50975 non-null  float64\n\n 11  date_posted   50975 non-null  object \n\n 12  days_listed   50975 non-null  int64  \n\n 13  odom_range    50975 non-null  object \n\ndtypes: float64(4), int64(2), object(8)\n\nmemory usage: 5.8+ MB\n"
        },
        {
          "execution_count": 21,
          "output_type": "execute_result",
          "data": {
            "text/html": [
              "<div>\n",
              "<style scoped>\n",
              "    .dataframe tbody tr th:only-of-type {\n",
              "        vertical-align: middle;\n",
              "    }\n",
              "\n",
              "    .dataframe tbody tr th {\n",
              "        vertical-align: top;\n",
              "    }\n",
              "\n",
              "    .dataframe thead th {\n",
              "        text-align: right;\n",
              "    }\n",
              "</style>\n",
              "<table border=\"1\" class=\"dataframe\">\n",
              "  <thead>\n",
              "    <tr style=\"text-align: right;\">\n",
              "      <th></th>\n",
              "      <th>price</th>\n",
              "      <th>model_year</th>\n",
              "      <th>model</th>\n",
              "      <th>condition</th>\n",
              "      <th>cylinders</th>\n",
              "      <th>fuel</th>\n",
              "      <th>odometer</th>\n",
              "      <th>transmission</th>\n",
              "      <th>type</th>\n",
              "      <th>paint_color</th>\n",
              "      <th>is_4wd</th>\n",
              "      <th>date_posted</th>\n",
              "      <th>days_listed</th>\n",
              "      <th>odom_range</th>\n",
              "    </tr>\n",
              "  </thead>\n",
              "  <tbody>\n",
              "    <tr>\n",
              "      <th>0</th>\n",
              "      <td>9400</td>\n",
              "      <td>2011.0</td>\n",
              "      <td>bmw x5</td>\n",
              "      <td>good</td>\n",
              "      <td>6.0</td>\n",
              "      <td>gas</td>\n",
              "      <td>145000.0</td>\n",
              "      <td>automatic</td>\n",
              "      <td>SUV</td>\n",
              "      <td>unknown</td>\n",
              "      <td>1.0</td>\n",
              "      <td>2018-06-23</td>\n",
              "      <td>19</td>\n",
              "      <td>100,000 &lt; odom &lt;= 150,000</td>\n",
              "    </tr>\n",
              "    <tr>\n",
              "      <th>1</th>\n",
              "      <td>25500</td>\n",
              "      <td>2014.0</td>\n",
              "      <td>ford f-150</td>\n",
              "      <td>good</td>\n",
              "      <td>6.0</td>\n",
              "      <td>gas</td>\n",
              "      <td>88705.0</td>\n",
              "      <td>automatic</td>\n",
              "      <td>pickup</td>\n",
              "      <td>white</td>\n",
              "      <td>1.0</td>\n",
              "      <td>2018-10-19</td>\n",
              "      <td>50</td>\n",
              "      <td>50,000 &lt; odom &lt;= 100,000</td>\n",
              "    </tr>\n",
              "    <tr>\n",
              "      <th>2</th>\n",
              "      <td>5500</td>\n",
              "      <td>2013.0</td>\n",
              "      <td>hyundai sonata</td>\n",
              "      <td>like new</td>\n",
              "      <td>4.0</td>\n",
              "      <td>gas</td>\n",
              "      <td>110000.0</td>\n",
              "      <td>automatic</td>\n",
              "      <td>sedan</td>\n",
              "      <td>red</td>\n",
              "      <td>0.0</td>\n",
              "      <td>2019-02-07</td>\n",
              "      <td>79</td>\n",
              "      <td>100,000 &lt; odom &lt;= 150,000</td>\n",
              "    </tr>\n",
              "    <tr>\n",
              "      <th>3</th>\n",
              "      <td>1500</td>\n",
              "      <td>2003.0</td>\n",
              "      <td>ford f-150</td>\n",
              "      <td>fair</td>\n",
              "      <td>8.0</td>\n",
              "      <td>gas</td>\n",
              "      <td>161397.0</td>\n",
              "      <td>automatic</td>\n",
              "      <td>pickup</td>\n",
              "      <td>unknown</td>\n",
              "      <td>0.0</td>\n",
              "      <td>2019-03-22</td>\n",
              "      <td>9</td>\n",
              "      <td>odom &gt; 900,000</td>\n",
              "    </tr>\n",
              "    <tr>\n",
              "      <th>4</th>\n",
              "      <td>14900</td>\n",
              "      <td>2017.0</td>\n",
              "      <td>chrysler 200</td>\n",
              "      <td>excellent</td>\n",
              "      <td>4.0</td>\n",
              "      <td>gas</td>\n",
              "      <td>80903.0</td>\n",
              "      <td>automatic</td>\n",
              "      <td>sedan</td>\n",
              "      <td>black</td>\n",
              "      <td>0.0</td>\n",
              "      <td>2019-04-02</td>\n",
              "      <td>28</td>\n",
              "      <td>50,000 &lt; odom &lt;= 100,000</td>\n",
              "    </tr>\n",
              "    <tr>\n",
              "      <th>5</th>\n",
              "      <td>14990</td>\n",
              "      <td>2014.0</td>\n",
              "      <td>chrysler 300</td>\n",
              "      <td>excellent</td>\n",
              "      <td>6.0</td>\n",
              "      <td>gas</td>\n",
              "      <td>57954.0</td>\n",
              "      <td>automatic</td>\n",
              "      <td>sedan</td>\n",
              "      <td>black</td>\n",
              "      <td>1.0</td>\n",
              "      <td>2018-06-20</td>\n",
              "      <td>15</td>\n",
              "      <td>50,000 &lt; odom &lt;= 100,000</td>\n",
              "    </tr>\n",
              "    <tr>\n",
              "      <th>6</th>\n",
              "      <td>12990</td>\n",
              "      <td>2015.0</td>\n",
              "      <td>toyota camry</td>\n",
              "      <td>excellent</td>\n",
              "      <td>4.0</td>\n",
              "      <td>gas</td>\n",
              "      <td>79212.0</td>\n",
              "      <td>automatic</td>\n",
              "      <td>sedan</td>\n",
              "      <td>white</td>\n",
              "      <td>0.0</td>\n",
              "      <td>2018-12-27</td>\n",
              "      <td>73</td>\n",
              "      <td>50,000 &lt; odom &lt;= 100,000</td>\n",
              "    </tr>\n",
              "    <tr>\n",
              "      <th>7</th>\n",
              "      <td>15990</td>\n",
              "      <td>2013.0</td>\n",
              "      <td>honda pilot</td>\n",
              "      <td>excellent</td>\n",
              "      <td>6.0</td>\n",
              "      <td>gas</td>\n",
              "      <td>109473.0</td>\n",
              "      <td>automatic</td>\n",
              "      <td>SUV</td>\n",
              "      <td>black</td>\n",
              "      <td>1.0</td>\n",
              "      <td>2019-01-07</td>\n",
              "      <td>68</td>\n",
              "      <td>100,000 &lt; odom &lt;= 150,000</td>\n",
              "    </tr>\n",
              "    <tr>\n",
              "      <th>8</th>\n",
              "      <td>11500</td>\n",
              "      <td>2012.0</td>\n",
              "      <td>kia sorento</td>\n",
              "      <td>excellent</td>\n",
              "      <td>4.0</td>\n",
              "      <td>gas</td>\n",
              "      <td>104174.0</td>\n",
              "      <td>automatic</td>\n",
              "      <td>SUV</td>\n",
              "      <td>unknown</td>\n",
              "      <td>1.0</td>\n",
              "      <td>2018-07-16</td>\n",
              "      <td>19</td>\n",
              "      <td>100,000 &lt; odom &lt;= 150,000</td>\n",
              "    </tr>\n",
              "    <tr>\n",
              "      <th>9</th>\n",
              "      <td>9200</td>\n",
              "      <td>2008.0</td>\n",
              "      <td>honda pilot</td>\n",
              "      <td>excellent</td>\n",
              "      <td>6.0</td>\n",
              "      <td>gas</td>\n",
              "      <td>147191.0</td>\n",
              "      <td>automatic</td>\n",
              "      <td>SUV</td>\n",
              "      <td>blue</td>\n",
              "      <td>1.0</td>\n",
              "      <td>2019-02-15</td>\n",
              "      <td>17</td>\n",
              "      <td>100,000 &lt; odom &lt;= 150,000</td>\n",
              "    </tr>\n",
              "  </tbody>\n",
              "</table>\n",
              "</div>"
            ],
            "text/plain": [
              "   price  model_year           model  condition  cylinders fuel  odometer  \\\n",
              "0   9400      2011.0          bmw x5       good        6.0  gas  145000.0   \n",
              "1  25500      2014.0      ford f-150       good        6.0  gas   88705.0   \n",
              "2   5500      2013.0  hyundai sonata   like new        4.0  gas  110000.0   \n",
              "3   1500      2003.0      ford f-150       fair        8.0  gas  161397.0   \n",
              "4  14900      2017.0    chrysler 200  excellent        4.0  gas   80903.0   \n",
              "5  14990      2014.0    chrysler 300  excellent        6.0  gas   57954.0   \n",
              "6  12990      2015.0    toyota camry  excellent        4.0  gas   79212.0   \n",
              "7  15990      2013.0     honda pilot  excellent        6.0  gas  109473.0   \n",
              "8  11500      2012.0     kia sorento  excellent        4.0  gas  104174.0   \n",
              "9   9200      2008.0     honda pilot  excellent        6.0  gas  147191.0   \n",
              "\n",
              "  transmission    type paint_color  is_4wd date_posted  days_listed  \\\n",
              "0    automatic     SUV     unknown     1.0  2018-06-23           19   \n",
              "1    automatic  pickup       white     1.0  2018-10-19           50   \n",
              "2    automatic   sedan         red     0.0  2019-02-07           79   \n",
              "3    automatic  pickup     unknown     0.0  2019-03-22            9   \n",
              "4    automatic   sedan       black     0.0  2019-04-02           28   \n",
              "5    automatic   sedan       black     1.0  2018-06-20           15   \n",
              "6    automatic   sedan       white     0.0  2018-12-27           73   \n",
              "7    automatic     SUV       black     1.0  2019-01-07           68   \n",
              "8    automatic     SUV     unknown     1.0  2018-07-16           19   \n",
              "9    automatic     SUV        blue     1.0  2019-02-15           17   \n",
              "\n",
              "                  odom_range  \n",
              "0  100,000 < odom <= 150,000  \n",
              "1   50,000 < odom <= 100,000  \n",
              "2  100,000 < odom <= 150,000  \n",
              "3             odom > 900,000  \n",
              "4   50,000 < odom <= 100,000  \n",
              "5   50,000 < odom <= 100,000  \n",
              "6   50,000 < odom <= 100,000  \n",
              "7  100,000 < odom <= 150,000  \n",
              "8  100,000 < odom <= 150,000  \n",
              "9  100,000 < odom <= 150,000  "
            ]
          },
          "metadata": {}
        }
      ]
    },
    {
      "cell_type": "markdown",
      "source": "Se tiene un dataframe sin valores ausentes",
      "metadata": {}
    },
    {
      "cell_type": "markdown",
      "source": "## Corregir los tipos de datos",
      "metadata": {}
    },
    {
      "cell_type": "markdown",
      "source": "Se modifica el tipo de datos de la columna 'date_posted'",
      "metadata": {}
    },
    {
      "cell_type": "code",
      "source": "#Se modifica el tipo de la columna 'date_posted' a tipo datetime\ndf['date_posted'] = pd.to_datetime(df['date_posted'],format='%Y-%m-%d')",
      "metadata": {
        "scrolled": true
      },
      "execution_count": 22,
      "outputs": []
    },
    {
      "cell_type": "code",
      "source": "#Se modifica el tipo de la columna 'is_4wd' a tipo booleano\ndf['is_4wd'] = df['is_4wd'].astype('bool')",
      "metadata": {
        "scrolled": true
      },
      "execution_count": 23,
      "outputs": []
    },
    {
      "cell_type": "code",
      "source": "#verificar cambios\ndf.info()\ndf.head()",
      "metadata": {},
      "execution_count": 24,
      "outputs": [
        {
          "name": "stdout",
          "output_type": "stream",
          "text": "<class 'pandas.core.frame.DataFrame'>\n\nInt64Index: 50975 entries, 0 to 51524\n\nData columns (total 14 columns):\n\n #   Column        Non-Null Count  Dtype         \n\n---  ------        --------------  -----         \n\n 0   price         50975 non-null  int64         \n\n 1   model_year    50975 non-null  float64       \n\n 2   model         50975 non-null  object        \n\n 3   condition     50975 non-null  object        \n\n 4   cylinders     50975 non-null  float64       \n\n 5   fuel          50975 non-null  object        \n\n 6   odometer      50975 non-null  float64       \n\n 7   transmission  50975 non-null  object        \n\n 8   type          50975 non-null  object        \n\n 9   paint_color   50975 non-null  object        \n\n 10  is_4wd        50975 non-null  bool          \n\n 11  date_posted   50975 non-null  datetime64[ns]\n\n 12  days_listed   50975 non-null  int64         \n\n 13  odom_range    50975 non-null  object        \n\ndtypes: bool(1), datetime64[ns](1), float64(3), int64(2), object(7)\n\nmemory usage: 5.5+ MB\n"
        },
        {
          "execution_count": 24,
          "output_type": "execute_result",
          "data": {
            "text/html": [
              "<div>\n",
              "<style scoped>\n",
              "    .dataframe tbody tr th:only-of-type {\n",
              "        vertical-align: middle;\n",
              "    }\n",
              "\n",
              "    .dataframe tbody tr th {\n",
              "        vertical-align: top;\n",
              "    }\n",
              "\n",
              "    .dataframe thead th {\n",
              "        text-align: right;\n",
              "    }\n",
              "</style>\n",
              "<table border=\"1\" class=\"dataframe\">\n",
              "  <thead>\n",
              "    <tr style=\"text-align: right;\">\n",
              "      <th></th>\n",
              "      <th>price</th>\n",
              "      <th>model_year</th>\n",
              "      <th>model</th>\n",
              "      <th>condition</th>\n",
              "      <th>cylinders</th>\n",
              "      <th>fuel</th>\n",
              "      <th>odometer</th>\n",
              "      <th>transmission</th>\n",
              "      <th>type</th>\n",
              "      <th>paint_color</th>\n",
              "      <th>is_4wd</th>\n",
              "      <th>date_posted</th>\n",
              "      <th>days_listed</th>\n",
              "      <th>odom_range</th>\n",
              "    </tr>\n",
              "  </thead>\n",
              "  <tbody>\n",
              "    <tr>\n",
              "      <th>0</th>\n",
              "      <td>9400</td>\n",
              "      <td>2011.0</td>\n",
              "      <td>bmw x5</td>\n",
              "      <td>good</td>\n",
              "      <td>6.0</td>\n",
              "      <td>gas</td>\n",
              "      <td>145000.0</td>\n",
              "      <td>automatic</td>\n",
              "      <td>SUV</td>\n",
              "      <td>unknown</td>\n",
              "      <td>True</td>\n",
              "      <td>2018-06-23</td>\n",
              "      <td>19</td>\n",
              "      <td>100,000 &lt; odom &lt;= 150,000</td>\n",
              "    </tr>\n",
              "    <tr>\n",
              "      <th>1</th>\n",
              "      <td>25500</td>\n",
              "      <td>2014.0</td>\n",
              "      <td>ford f-150</td>\n",
              "      <td>good</td>\n",
              "      <td>6.0</td>\n",
              "      <td>gas</td>\n",
              "      <td>88705.0</td>\n",
              "      <td>automatic</td>\n",
              "      <td>pickup</td>\n",
              "      <td>white</td>\n",
              "      <td>True</td>\n",
              "      <td>2018-10-19</td>\n",
              "      <td>50</td>\n",
              "      <td>50,000 &lt; odom &lt;= 100,000</td>\n",
              "    </tr>\n",
              "    <tr>\n",
              "      <th>2</th>\n",
              "      <td>5500</td>\n",
              "      <td>2013.0</td>\n",
              "      <td>hyundai sonata</td>\n",
              "      <td>like new</td>\n",
              "      <td>4.0</td>\n",
              "      <td>gas</td>\n",
              "      <td>110000.0</td>\n",
              "      <td>automatic</td>\n",
              "      <td>sedan</td>\n",
              "      <td>red</td>\n",
              "      <td>False</td>\n",
              "      <td>2019-02-07</td>\n",
              "      <td>79</td>\n",
              "      <td>100,000 &lt; odom &lt;= 150,000</td>\n",
              "    </tr>\n",
              "    <tr>\n",
              "      <th>3</th>\n",
              "      <td>1500</td>\n",
              "      <td>2003.0</td>\n",
              "      <td>ford f-150</td>\n",
              "      <td>fair</td>\n",
              "      <td>8.0</td>\n",
              "      <td>gas</td>\n",
              "      <td>161397.0</td>\n",
              "      <td>automatic</td>\n",
              "      <td>pickup</td>\n",
              "      <td>unknown</td>\n",
              "      <td>False</td>\n",
              "      <td>2019-03-22</td>\n",
              "      <td>9</td>\n",
              "      <td>odom &gt; 900,000</td>\n",
              "    </tr>\n",
              "    <tr>\n",
              "      <th>4</th>\n",
              "      <td>14900</td>\n",
              "      <td>2017.0</td>\n",
              "      <td>chrysler 200</td>\n",
              "      <td>excellent</td>\n",
              "      <td>4.0</td>\n",
              "      <td>gas</td>\n",
              "      <td>80903.0</td>\n",
              "      <td>automatic</td>\n",
              "      <td>sedan</td>\n",
              "      <td>black</td>\n",
              "      <td>False</td>\n",
              "      <td>2019-04-02</td>\n",
              "      <td>28</td>\n",
              "      <td>50,000 &lt; odom &lt;= 100,000</td>\n",
              "    </tr>\n",
              "  </tbody>\n",
              "</table>\n",
              "</div>"
            ],
            "text/plain": [
              "   price  model_year           model  condition  cylinders fuel  odometer  \\\n",
              "0   9400      2011.0          bmw x5       good        6.0  gas  145000.0   \n",
              "1  25500      2014.0      ford f-150       good        6.0  gas   88705.0   \n",
              "2   5500      2013.0  hyundai sonata   like new        4.0  gas  110000.0   \n",
              "3   1500      2003.0      ford f-150       fair        8.0  gas  161397.0   \n",
              "4  14900      2017.0    chrysler 200  excellent        4.0  gas   80903.0   \n",
              "\n",
              "  transmission    type paint_color  is_4wd date_posted  days_listed  \\\n",
              "0    automatic     SUV     unknown    True  2018-06-23           19   \n",
              "1    automatic  pickup       white    True  2018-10-19           50   \n",
              "2    automatic   sedan         red   False  2019-02-07           79   \n",
              "3    automatic  pickup     unknown   False  2019-03-22            9   \n",
              "4    automatic   sedan       black   False  2019-04-02           28   \n",
              "\n",
              "                  odom_range  \n",
              "0  100,000 < odom <= 150,000  \n",
              "1   50,000 < odom <= 100,000  \n",
              "2  100,000 < odom <= 150,000  \n",
              "3             odom > 900,000  \n",
              "4   50,000 < odom <= 100,000  "
            ]
          },
          "metadata": {}
        }
      ]
    },
    {
      "cell_type": "markdown",
      "source": "## Enriquecer datos",
      "metadata": {}
    },
    {
      "cell_type": "markdown",
      "source": "Se agrega información tomada de la misma tabla para para facilitar el análisis.",
      "metadata": {}
    },
    {
      "cell_type": "code",
      "source": "#se agregan valores de dia de la semana, mes y año para cuando se colocó el anuncio\ndf['day_of_week'] = df['date_posted'].dt.weekday\ndf['month'] = df['date_posted'].dt.month\ndf['year'] = df['date_posted'].dt.year",
      "metadata": {
        "scrolled": true
      },
      "execution_count": 25,
      "outputs": []
    },
    {
      "cell_type": "code",
      "source": "#se agregan los años del vehículo cuando el anuncio se colocó\ndf['vehicle_age'] = df['year']-df['model_year']+1",
      "metadata": {
        "scrolled": true
      },
      "execution_count": 26,
      "outputs": []
    },
    {
      "cell_type": "code",
      "source": "#Se obtiene millaje promedio por vehiculo\ndf['avg_mileage_per_year'] = round( df['odometer'] / df['vehicle_age'],2 )",
      "metadata": {
        "scrolled": true
      },
      "execution_count": 27,
      "outputs": []
    },
    {
      "cell_type": "markdown",
      "source": "En la columna condition, se reemplazan los valores de cadena con una escala numérica:\n- nuevo ('new') = 5\n- como nuevo ('like new') = 4\n- excelente ('excellent') = 3\n- bien ('good') = 2\n- bastante ('fair') = 1\n- para rescate ('salvage') = 0",
      "metadata": {}
    },
    {
      "cell_type": "code",
      "source": "#Reemplazar los valores de condición con algo que se pueda manipular más fácilmente\ncond_dict = {'new':5, 'like new':4, 'excellent':3, 'good':2, 'fair':1, 'salvage':0}\ndf['condition'] = df['condition'].map(cond_dict)",
      "metadata": {
        "scrolled": true
      },
      "execution_count": 28,
      "outputs": []
    },
    {
      "cell_type": "code",
      "source": "#verificar cambios\ndf.info()\ndf.head()",
      "metadata": {
        "scrolled": true
      },
      "execution_count": 29,
      "outputs": [
        {
          "name": "stdout",
          "output_type": "stream",
          "text": "<class 'pandas.core.frame.DataFrame'>\n\nInt64Index: 50975 entries, 0 to 51524\n\nData columns (total 19 columns):\n\n #   Column                Non-Null Count  Dtype         \n\n---  ------                --------------  -----         \n\n 0   price                 50975 non-null  int64         \n\n 1   model_year            50975 non-null  float64       \n\n 2   model                 50975 non-null  object        \n\n 3   condition             50975 non-null  int64         \n\n 4   cylinders             50975 non-null  float64       \n\n 5   fuel                  50975 non-null  object        \n\n 6   odometer              50975 non-null  float64       \n\n 7   transmission          50975 non-null  object        \n\n 8   type                  50975 non-null  object        \n\n 9   paint_color           50975 non-null  object        \n\n 10  is_4wd                50975 non-null  bool          \n\n 11  date_posted           50975 non-null  datetime64[ns]\n\n 12  days_listed           50975 non-null  int64         \n\n 13  odom_range            50975 non-null  object        \n\n 14  day_of_week           50975 non-null  int64         \n\n 15  month                 50975 non-null  int64         \n\n 16  year                  50975 non-null  int64         \n\n 17  vehicle_age           50975 non-null  float64       \n\n 18  avg_mileage_per_year  50975 non-null  float64       \n\ndtypes: bool(1), datetime64[ns](1), float64(5), int64(6), object(6)\n\nmemory usage: 7.4+ MB\n"
        },
        {
          "execution_count": 29,
          "output_type": "execute_result",
          "data": {
            "text/html": [
              "<div>\n",
              "<style scoped>\n",
              "    .dataframe tbody tr th:only-of-type {\n",
              "        vertical-align: middle;\n",
              "    }\n",
              "\n",
              "    .dataframe tbody tr th {\n",
              "        vertical-align: top;\n",
              "    }\n",
              "\n",
              "    .dataframe thead th {\n",
              "        text-align: right;\n",
              "    }\n",
              "</style>\n",
              "<table border=\"1\" class=\"dataframe\">\n",
              "  <thead>\n",
              "    <tr style=\"text-align: right;\">\n",
              "      <th></th>\n",
              "      <th>price</th>\n",
              "      <th>model_year</th>\n",
              "      <th>model</th>\n",
              "      <th>condition</th>\n",
              "      <th>cylinders</th>\n",
              "      <th>fuel</th>\n",
              "      <th>odometer</th>\n",
              "      <th>transmission</th>\n",
              "      <th>type</th>\n",
              "      <th>paint_color</th>\n",
              "      <th>is_4wd</th>\n",
              "      <th>date_posted</th>\n",
              "      <th>days_listed</th>\n",
              "      <th>odom_range</th>\n",
              "      <th>day_of_week</th>\n",
              "      <th>month</th>\n",
              "      <th>year</th>\n",
              "      <th>vehicle_age</th>\n",
              "      <th>avg_mileage_per_year</th>\n",
              "    </tr>\n",
              "  </thead>\n",
              "  <tbody>\n",
              "    <tr>\n",
              "      <th>0</th>\n",
              "      <td>9400</td>\n",
              "      <td>2011.0</td>\n",
              "      <td>bmw x5</td>\n",
              "      <td>2</td>\n",
              "      <td>6.0</td>\n",
              "      <td>gas</td>\n",
              "      <td>145000.0</td>\n",
              "      <td>automatic</td>\n",
              "      <td>SUV</td>\n",
              "      <td>unknown</td>\n",
              "      <td>True</td>\n",
              "      <td>2018-06-23</td>\n",
              "      <td>19</td>\n",
              "      <td>100,000 &lt; odom &lt;= 150,000</td>\n",
              "      <td>5</td>\n",
              "      <td>6</td>\n",
              "      <td>2018</td>\n",
              "      <td>8.0</td>\n",
              "      <td>18125.00</td>\n",
              "    </tr>\n",
              "    <tr>\n",
              "      <th>1</th>\n",
              "      <td>25500</td>\n",
              "      <td>2014.0</td>\n",
              "      <td>ford f-150</td>\n",
              "      <td>2</td>\n",
              "      <td>6.0</td>\n",
              "      <td>gas</td>\n",
              "      <td>88705.0</td>\n",
              "      <td>automatic</td>\n",
              "      <td>pickup</td>\n",
              "      <td>white</td>\n",
              "      <td>True</td>\n",
              "      <td>2018-10-19</td>\n",
              "      <td>50</td>\n",
              "      <td>50,000 &lt; odom &lt;= 100,000</td>\n",
              "      <td>4</td>\n",
              "      <td>10</td>\n",
              "      <td>2018</td>\n",
              "      <td>5.0</td>\n",
              "      <td>17741.00</td>\n",
              "    </tr>\n",
              "    <tr>\n",
              "      <th>2</th>\n",
              "      <td>5500</td>\n",
              "      <td>2013.0</td>\n",
              "      <td>hyundai sonata</td>\n",
              "      <td>4</td>\n",
              "      <td>4.0</td>\n",
              "      <td>gas</td>\n",
              "      <td>110000.0</td>\n",
              "      <td>automatic</td>\n",
              "      <td>sedan</td>\n",
              "      <td>red</td>\n",
              "      <td>False</td>\n",
              "      <td>2019-02-07</td>\n",
              "      <td>79</td>\n",
              "      <td>100,000 &lt; odom &lt;= 150,000</td>\n",
              "      <td>3</td>\n",
              "      <td>2</td>\n",
              "      <td>2019</td>\n",
              "      <td>7.0</td>\n",
              "      <td>15714.29</td>\n",
              "    </tr>\n",
              "    <tr>\n",
              "      <th>3</th>\n",
              "      <td>1500</td>\n",
              "      <td>2003.0</td>\n",
              "      <td>ford f-150</td>\n",
              "      <td>1</td>\n",
              "      <td>8.0</td>\n",
              "      <td>gas</td>\n",
              "      <td>161397.0</td>\n",
              "      <td>automatic</td>\n",
              "      <td>pickup</td>\n",
              "      <td>unknown</td>\n",
              "      <td>False</td>\n",
              "      <td>2019-03-22</td>\n",
              "      <td>9</td>\n",
              "      <td>odom &gt; 900,000</td>\n",
              "      <td>4</td>\n",
              "      <td>3</td>\n",
              "      <td>2019</td>\n",
              "      <td>17.0</td>\n",
              "      <td>9493.94</td>\n",
              "    </tr>\n",
              "    <tr>\n",
              "      <th>4</th>\n",
              "      <td>14900</td>\n",
              "      <td>2017.0</td>\n",
              "      <td>chrysler 200</td>\n",
              "      <td>3</td>\n",
              "      <td>4.0</td>\n",
              "      <td>gas</td>\n",
              "      <td>80903.0</td>\n",
              "      <td>automatic</td>\n",
              "      <td>sedan</td>\n",
              "      <td>black</td>\n",
              "      <td>False</td>\n",
              "      <td>2019-04-02</td>\n",
              "      <td>28</td>\n",
              "      <td>50,000 &lt; odom &lt;= 100,000</td>\n",
              "      <td>1</td>\n",
              "      <td>4</td>\n",
              "      <td>2019</td>\n",
              "      <td>3.0</td>\n",
              "      <td>26967.67</td>\n",
              "    </tr>\n",
              "  </tbody>\n",
              "</table>\n",
              "</div>"
            ],
            "text/plain": [
              "   price  model_year           model  condition  cylinders fuel  odometer  \\\n",
              "0   9400      2011.0          bmw x5          2        6.0  gas  145000.0   \n",
              "1  25500      2014.0      ford f-150          2        6.0  gas   88705.0   \n",
              "2   5500      2013.0  hyundai sonata          4        4.0  gas  110000.0   \n",
              "3   1500      2003.0      ford f-150          1        8.0  gas  161397.0   \n",
              "4  14900      2017.0    chrysler 200          3        4.0  gas   80903.0   \n",
              "\n",
              "  transmission    type paint_color  is_4wd date_posted  days_listed  \\\n",
              "0    automatic     SUV     unknown    True  2018-06-23           19   \n",
              "1    automatic  pickup       white    True  2018-10-19           50   \n",
              "2    automatic   sedan         red   False  2019-02-07           79   \n",
              "3    automatic  pickup     unknown   False  2019-03-22            9   \n",
              "4    automatic   sedan       black   False  2019-04-02           28   \n",
              "\n",
              "                  odom_range  day_of_week  month  year  vehicle_age  \\\n",
              "0  100,000 < odom <= 150,000            5      6  2018          8.0   \n",
              "1   50,000 < odom <= 100,000            4     10  2018          5.0   \n",
              "2  100,000 < odom <= 150,000            3      2  2019          7.0   \n",
              "3             odom > 900,000            4      3  2019         17.0   \n",
              "4   50,000 < odom <= 100,000            1      4  2019          3.0   \n",
              "\n",
              "   avg_mileage_per_year  \n",
              "0              18125.00  \n",
              "1              17741.00  \n",
              "2              15714.29  \n",
              "3               9493.94  \n",
              "4              26967.67  "
            ]
          },
          "metadata": {}
        }
      ]
    },
    {
      "cell_type": "markdown",
      "source": "## Comprobar datos limpios",
      "metadata": {}
    },
    {
      "cell_type": "markdown",
      "source": "Se muestran todos los datos para saber exactamente que se va a utilizar para el análisis.",
      "metadata": {}
    },
    {
      "cell_type": "code",
      "source": "#información general/resumida sobre el DataFrame\ndf.info()",
      "metadata": {
        "scrolled": true
      },
      "execution_count": 30,
      "outputs": [
        {
          "name": "stdout",
          "output_type": "stream",
          "text": "<class 'pandas.core.frame.DataFrame'>\n\nInt64Index: 50975 entries, 0 to 51524\n\nData columns (total 19 columns):\n\n #   Column                Non-Null Count  Dtype         \n\n---  ------                --------------  -----         \n\n 0   price                 50975 non-null  int64         \n\n 1   model_year            50975 non-null  float64       \n\n 2   model                 50975 non-null  object        \n\n 3   condition             50975 non-null  int64         \n\n 4   cylinders             50975 non-null  float64       \n\n 5   fuel                  50975 non-null  object        \n\n 6   odometer              50975 non-null  float64       \n\n 7   transmission          50975 non-null  object        \n\n 8   type                  50975 non-null  object        \n\n 9   paint_color           50975 non-null  object        \n\n 10  is_4wd                50975 non-null  bool          \n\n 11  date_posted           50975 non-null  datetime64[ns]\n\n 12  days_listed           50975 non-null  int64         \n\n 13  odom_range            50975 non-null  object        \n\n 14  day_of_week           50975 non-null  int64         \n\n 15  month                 50975 non-null  int64         \n\n 16  year                  50975 non-null  int64         \n\n 17  vehicle_age           50975 non-null  float64       \n\n 18  avg_mileage_per_year  50975 non-null  float64       \n\ndtypes: bool(1), datetime64[ns](1), float64(5), int64(6), object(6)\n\nmemory usage: 7.4+ MB\n"
        }
      ]
    },
    {
      "cell_type": "code",
      "source": "#Muestra de datos\ndf.head(10)",
      "metadata": {
        "scrolled": true
      },
      "execution_count": 31,
      "outputs": [
        {
          "execution_count": 31,
          "output_type": "execute_result",
          "data": {
            "text/html": [
              "<div>\n",
              "<style scoped>\n",
              "    .dataframe tbody tr th:only-of-type {\n",
              "        vertical-align: middle;\n",
              "    }\n",
              "\n",
              "    .dataframe tbody tr th {\n",
              "        vertical-align: top;\n",
              "    }\n",
              "\n",
              "    .dataframe thead th {\n",
              "        text-align: right;\n",
              "    }\n",
              "</style>\n",
              "<table border=\"1\" class=\"dataframe\">\n",
              "  <thead>\n",
              "    <tr style=\"text-align: right;\">\n",
              "      <th></th>\n",
              "      <th>price</th>\n",
              "      <th>model_year</th>\n",
              "      <th>model</th>\n",
              "      <th>condition</th>\n",
              "      <th>cylinders</th>\n",
              "      <th>fuel</th>\n",
              "      <th>odometer</th>\n",
              "      <th>transmission</th>\n",
              "      <th>type</th>\n",
              "      <th>paint_color</th>\n",
              "      <th>is_4wd</th>\n",
              "      <th>date_posted</th>\n",
              "      <th>days_listed</th>\n",
              "      <th>odom_range</th>\n",
              "      <th>day_of_week</th>\n",
              "      <th>month</th>\n",
              "      <th>year</th>\n",
              "      <th>vehicle_age</th>\n",
              "      <th>avg_mileage_per_year</th>\n",
              "    </tr>\n",
              "  </thead>\n",
              "  <tbody>\n",
              "    <tr>\n",
              "      <th>0</th>\n",
              "      <td>9400</td>\n",
              "      <td>2011.0</td>\n",
              "      <td>bmw x5</td>\n",
              "      <td>2</td>\n",
              "      <td>6.0</td>\n",
              "      <td>gas</td>\n",
              "      <td>145000.0</td>\n",
              "      <td>automatic</td>\n",
              "      <td>SUV</td>\n",
              "      <td>unknown</td>\n",
              "      <td>True</td>\n",
              "      <td>2018-06-23</td>\n",
              "      <td>19</td>\n",
              "      <td>100,000 &lt; odom &lt;= 150,000</td>\n",
              "      <td>5</td>\n",
              "      <td>6</td>\n",
              "      <td>2018</td>\n",
              "      <td>8.0</td>\n",
              "      <td>18125.00</td>\n",
              "    </tr>\n",
              "    <tr>\n",
              "      <th>1</th>\n",
              "      <td>25500</td>\n",
              "      <td>2014.0</td>\n",
              "      <td>ford f-150</td>\n",
              "      <td>2</td>\n",
              "      <td>6.0</td>\n",
              "      <td>gas</td>\n",
              "      <td>88705.0</td>\n",
              "      <td>automatic</td>\n",
              "      <td>pickup</td>\n",
              "      <td>white</td>\n",
              "      <td>True</td>\n",
              "      <td>2018-10-19</td>\n",
              "      <td>50</td>\n",
              "      <td>50,000 &lt; odom &lt;= 100,000</td>\n",
              "      <td>4</td>\n",
              "      <td>10</td>\n",
              "      <td>2018</td>\n",
              "      <td>5.0</td>\n",
              "      <td>17741.00</td>\n",
              "    </tr>\n",
              "    <tr>\n",
              "      <th>2</th>\n",
              "      <td>5500</td>\n",
              "      <td>2013.0</td>\n",
              "      <td>hyundai sonata</td>\n",
              "      <td>4</td>\n",
              "      <td>4.0</td>\n",
              "      <td>gas</td>\n",
              "      <td>110000.0</td>\n",
              "      <td>automatic</td>\n",
              "      <td>sedan</td>\n",
              "      <td>red</td>\n",
              "      <td>False</td>\n",
              "      <td>2019-02-07</td>\n",
              "      <td>79</td>\n",
              "      <td>100,000 &lt; odom &lt;= 150,000</td>\n",
              "      <td>3</td>\n",
              "      <td>2</td>\n",
              "      <td>2019</td>\n",
              "      <td>7.0</td>\n",
              "      <td>15714.29</td>\n",
              "    </tr>\n",
              "    <tr>\n",
              "      <th>3</th>\n",
              "      <td>1500</td>\n",
              "      <td>2003.0</td>\n",
              "      <td>ford f-150</td>\n",
              "      <td>1</td>\n",
              "      <td>8.0</td>\n",
              "      <td>gas</td>\n",
              "      <td>161397.0</td>\n",
              "      <td>automatic</td>\n",
              "      <td>pickup</td>\n",
              "      <td>unknown</td>\n",
              "      <td>False</td>\n",
              "      <td>2019-03-22</td>\n",
              "      <td>9</td>\n",
              "      <td>odom &gt; 900,000</td>\n",
              "      <td>4</td>\n",
              "      <td>3</td>\n",
              "      <td>2019</td>\n",
              "      <td>17.0</td>\n",
              "      <td>9493.94</td>\n",
              "    </tr>\n",
              "    <tr>\n",
              "      <th>4</th>\n",
              "      <td>14900</td>\n",
              "      <td>2017.0</td>\n",
              "      <td>chrysler 200</td>\n",
              "      <td>3</td>\n",
              "      <td>4.0</td>\n",
              "      <td>gas</td>\n",
              "      <td>80903.0</td>\n",
              "      <td>automatic</td>\n",
              "      <td>sedan</td>\n",
              "      <td>black</td>\n",
              "      <td>False</td>\n",
              "      <td>2019-04-02</td>\n",
              "      <td>28</td>\n",
              "      <td>50,000 &lt; odom &lt;= 100,000</td>\n",
              "      <td>1</td>\n",
              "      <td>4</td>\n",
              "      <td>2019</td>\n",
              "      <td>3.0</td>\n",
              "      <td>26967.67</td>\n",
              "    </tr>\n",
              "    <tr>\n",
              "      <th>5</th>\n",
              "      <td>14990</td>\n",
              "      <td>2014.0</td>\n",
              "      <td>chrysler 300</td>\n",
              "      <td>3</td>\n",
              "      <td>6.0</td>\n",
              "      <td>gas</td>\n",
              "      <td>57954.0</td>\n",
              "      <td>automatic</td>\n",
              "      <td>sedan</td>\n",
              "      <td>black</td>\n",
              "      <td>True</td>\n",
              "      <td>2018-06-20</td>\n",
              "      <td>15</td>\n",
              "      <td>50,000 &lt; odom &lt;= 100,000</td>\n",
              "      <td>2</td>\n",
              "      <td>6</td>\n",
              "      <td>2018</td>\n",
              "      <td>5.0</td>\n",
              "      <td>11590.80</td>\n",
              "    </tr>\n",
              "    <tr>\n",
              "      <th>6</th>\n",
              "      <td>12990</td>\n",
              "      <td>2015.0</td>\n",
              "      <td>toyota camry</td>\n",
              "      <td>3</td>\n",
              "      <td>4.0</td>\n",
              "      <td>gas</td>\n",
              "      <td>79212.0</td>\n",
              "      <td>automatic</td>\n",
              "      <td>sedan</td>\n",
              "      <td>white</td>\n",
              "      <td>False</td>\n",
              "      <td>2018-12-27</td>\n",
              "      <td>73</td>\n",
              "      <td>50,000 &lt; odom &lt;= 100,000</td>\n",
              "      <td>3</td>\n",
              "      <td>12</td>\n",
              "      <td>2018</td>\n",
              "      <td>4.0</td>\n",
              "      <td>19803.00</td>\n",
              "    </tr>\n",
              "    <tr>\n",
              "      <th>7</th>\n",
              "      <td>15990</td>\n",
              "      <td>2013.0</td>\n",
              "      <td>honda pilot</td>\n",
              "      <td>3</td>\n",
              "      <td>6.0</td>\n",
              "      <td>gas</td>\n",
              "      <td>109473.0</td>\n",
              "      <td>automatic</td>\n",
              "      <td>SUV</td>\n",
              "      <td>black</td>\n",
              "      <td>True</td>\n",
              "      <td>2019-01-07</td>\n",
              "      <td>68</td>\n",
              "      <td>100,000 &lt; odom &lt;= 150,000</td>\n",
              "      <td>0</td>\n",
              "      <td>1</td>\n",
              "      <td>2019</td>\n",
              "      <td>7.0</td>\n",
              "      <td>15639.00</td>\n",
              "    </tr>\n",
              "    <tr>\n",
              "      <th>8</th>\n",
              "      <td>11500</td>\n",
              "      <td>2012.0</td>\n",
              "      <td>kia sorento</td>\n",
              "      <td>3</td>\n",
              "      <td>4.0</td>\n",
              "      <td>gas</td>\n",
              "      <td>104174.0</td>\n",
              "      <td>automatic</td>\n",
              "      <td>SUV</td>\n",
              "      <td>unknown</td>\n",
              "      <td>True</td>\n",
              "      <td>2018-07-16</td>\n",
              "      <td>19</td>\n",
              "      <td>100,000 &lt; odom &lt;= 150,000</td>\n",
              "      <td>0</td>\n",
              "      <td>7</td>\n",
              "      <td>2018</td>\n",
              "      <td>7.0</td>\n",
              "      <td>14882.00</td>\n",
              "    </tr>\n",
              "    <tr>\n",
              "      <th>9</th>\n",
              "      <td>9200</td>\n",
              "      <td>2008.0</td>\n",
              "      <td>honda pilot</td>\n",
              "      <td>3</td>\n",
              "      <td>6.0</td>\n",
              "      <td>gas</td>\n",
              "      <td>147191.0</td>\n",
              "      <td>automatic</td>\n",
              "      <td>SUV</td>\n",
              "      <td>blue</td>\n",
              "      <td>True</td>\n",
              "      <td>2019-02-15</td>\n",
              "      <td>17</td>\n",
              "      <td>100,000 &lt; odom &lt;= 150,000</td>\n",
              "      <td>4</td>\n",
              "      <td>2</td>\n",
              "      <td>2019</td>\n",
              "      <td>12.0</td>\n",
              "      <td>12265.92</td>\n",
              "    </tr>\n",
              "  </tbody>\n",
              "</table>\n",
              "</div>"
            ],
            "text/plain": [
              "   price  model_year           model  condition  cylinders fuel  odometer  \\\n",
              "0   9400      2011.0          bmw x5          2        6.0  gas  145000.0   \n",
              "1  25500      2014.0      ford f-150          2        6.0  gas   88705.0   \n",
              "2   5500      2013.0  hyundai sonata          4        4.0  gas  110000.0   \n",
              "3   1500      2003.0      ford f-150          1        8.0  gas  161397.0   \n",
              "4  14900      2017.0    chrysler 200          3        4.0  gas   80903.0   \n",
              "5  14990      2014.0    chrysler 300          3        6.0  gas   57954.0   \n",
              "6  12990      2015.0    toyota camry          3        4.0  gas   79212.0   \n",
              "7  15990      2013.0     honda pilot          3        6.0  gas  109473.0   \n",
              "8  11500      2012.0     kia sorento          3        4.0  gas  104174.0   \n",
              "9   9200      2008.0     honda pilot          3        6.0  gas  147191.0   \n",
              "\n",
              "  transmission    type paint_color  is_4wd date_posted  days_listed  \\\n",
              "0    automatic     SUV     unknown    True  2018-06-23           19   \n",
              "1    automatic  pickup       white    True  2018-10-19           50   \n",
              "2    automatic   sedan         red   False  2019-02-07           79   \n",
              "3    automatic  pickup     unknown   False  2019-03-22            9   \n",
              "4    automatic   sedan       black   False  2019-04-02           28   \n",
              "5    automatic   sedan       black    True  2018-06-20           15   \n",
              "6    automatic   sedan       white   False  2018-12-27           73   \n",
              "7    automatic     SUV       black    True  2019-01-07           68   \n",
              "8    automatic     SUV     unknown    True  2018-07-16           19   \n",
              "9    automatic     SUV        blue    True  2019-02-15           17   \n",
              "\n",
              "                  odom_range  day_of_week  month  year  vehicle_age  \\\n",
              "0  100,000 < odom <= 150,000            5      6  2018          8.0   \n",
              "1   50,000 < odom <= 100,000            4     10  2018          5.0   \n",
              "2  100,000 < odom <= 150,000            3      2  2019          7.0   \n",
              "3             odom > 900,000            4      3  2019         17.0   \n",
              "4   50,000 < odom <= 100,000            1      4  2019          3.0   \n",
              "5   50,000 < odom <= 100,000            2      6  2018          5.0   \n",
              "6   50,000 < odom <= 100,000            3     12  2018          4.0   \n",
              "7  100,000 < odom <= 150,000            0      1  2019          7.0   \n",
              "8  100,000 < odom <= 150,000            0      7  2018          7.0   \n",
              "9  100,000 < odom <= 150,000            4      2  2019         12.0   \n",
              "\n",
              "   avg_mileage_per_year  \n",
              "0              18125.00  \n",
              "1              17741.00  \n",
              "2              15714.29  \n",
              "3               9493.94  \n",
              "4              26967.67  \n",
              "5              11590.80  \n",
              "6              19803.00  \n",
              "7              15639.00  \n",
              "8              14882.00  \n",
              "9              12265.92  "
            ]
          },
          "metadata": {}
        }
      ]
    },
    {
      "cell_type": "markdown",
      "source": "## Estudiar parámetros principales\n\nA continuación, se analizan los parámetros principales que son:\n- Precio\n- Los años del vehículo cuando el anuncio se colocó\n- Millaje\n- Número de cilindros\n- Estado",
      "metadata": {}
    },
    {
      "cell_type": "code",
      "source": "#analizar histograma, boxplot y datos de los parámetros principales\nplt.subplots(figsize=(20, 8))\n\ncolumns = ['price','vehicle_age','odometer','cylinders','condition']\n\nfor i, column in enumerate(columns):\n    if column =='vehicle_age':\n        df.query('model_year>0').boxplot(column=column, ax=plt.subplot(2, len(columns), i + 1))\n        df.query('model_year>0').hist(column, ax=plt.subplot(2, len(columns), len(columns) + i + 1))\n    elif column =='cylinders':\n        df.query('cylinders>0').boxplot(column=column, ax=plt.subplot(2, len(columns), i + 1))\n        df.query('cylinders>0').hist(column, ax=plt.subplot(2, len(columns), len(columns) + i + 1))\n    else:\n        df.boxplot(column=column, ax=plt.subplot(2, len(columns), i + 1))\n        df.hist(column, ax=plt.subplot(2, len(columns), len(columns) + i + 1))\n        \n    plt.xlim(0, max(df[column]))\n    plt.xticks(rotation=60)\n\nplt.show()\n",
      "metadata": {
        "scrolled": true
      },
      "execution_count": 32,
      "outputs": [
        {
          "output_type": "display_data",
          "data": {
            "image/png": "[encoded data removed]",
            "text/plain": [
              "<Figure size 1440x576 with 10 Axes>"
            ]
          },
          "metadata": {
            "needs_background": "light"
          }
        }
      ]
    },
    {
      "cell_type": "markdown",
      "source": "Se observan múltiples valores atípicamente altos en las columnas 'price', 'vehicle_age' y 'odometer'.",
      "metadata": {}
    },
    {
      "cell_type": "code",
      "source": "#Se analizan a fondo las columnas con valores atípicos\nfor column in ['price','vehicle_age','odometer']:\n    print(column)\n    print(df[column].describe())\n    print()",
      "metadata": {
        "scrolled": true
      },
      "execution_count": 33,
      "outputs": [
        {
          "name": "stdout",
          "output_type": "stream",
          "text": "price\n\ncount     50975.000000\n\nmean      12130.817106\n\nstd       10042.165686\n\nmin           1.000000\n\n25%        5000.000000\n\n50%        9000.000000\n\n75%       16800.000000\n\nmax      375000.000000\n\nName: price, dtype: float64\n\n\n\nvehicle_age\n\ncount    50975.000000\n\nmean         9.440961\n\nstd          6.180972\n\nmin          1.000000\n\n25%          5.000000\n\n50%          8.000000\n\n75%         13.000000\n\nmax        111.000000\n\nName: vehicle_age, dtype: float64\n\n\n\nodometer\n\ncount     50975.000000\n\nmean     115186.066179\n\nstd       62387.715502\n\nmin           0.000000\n\n25%       73000.000000\n\n50%      113920.000000\n\n75%      153000.000000\n\nmax      990000.000000\n\nName: odometer, dtype: float64\n\n\n"
        }
      ]
    },
    {
      "cell_type": "code",
      "source": "df.query('price==1')",
      "metadata": {},
      "execution_count": 34,
      "outputs": [
        {
          "execution_count": 34,
          "output_type": "execute_result",
          "data": {
            "text/html": [
              "<div>\n",
              "<style scoped>\n",
              "    .dataframe tbody tr th:only-of-type {\n",
              "        vertical-align: middle;\n",
              "    }\n",
              "\n",
              "    .dataframe tbody tr th {\n",
              "        vertical-align: top;\n",
              "    }\n",
              "\n",
              "    .dataframe thead th {\n",
              "        text-align: right;\n",
              "    }\n",
              "</style>\n",
              "<table border=\"1\" class=\"dataframe\">\n",
              "  <thead>\n",
              "    <tr style=\"text-align: right;\">\n",
              "      <th></th>\n",
              "      <th>price</th>\n",
              "      <th>model_year</th>\n",
              "      <th>model</th>\n",
              "      <th>condition</th>\n",
              "      <th>cylinders</th>\n",
              "      <th>fuel</th>\n",
              "      <th>odometer</th>\n",
              "      <th>transmission</th>\n",
              "      <th>type</th>\n",
              "      <th>paint_color</th>\n",
              "      <th>is_4wd</th>\n",
              "      <th>date_posted</th>\n",
              "      <th>days_listed</th>\n",
              "      <th>odom_range</th>\n",
              "      <th>day_of_week</th>\n",
              "      <th>month</th>\n",
              "      <th>year</th>\n",
              "      <th>vehicle_age</th>\n",
              "      <th>avg_mileage_per_year</th>\n",
              "    </tr>\n",
              "  </thead>\n",
              "  <tbody>\n",
              "    <tr>\n",
              "      <th>405</th>\n",
              "      <td>1</td>\n",
              "      <td>2014.0</td>\n",
              "      <td>chevrolet camaro</td>\n",
              "      <td>3</td>\n",
              "      <td>6.0</td>\n",
              "      <td>gas</td>\n",
              "      <td>71310.0</td>\n",
              "      <td>automatic</td>\n",
              "      <td>coupe</td>\n",
              "      <td>unknown</td>\n",
              "      <td>False</td>\n",
              "      <td>2018-07-14</td>\n",
              "      <td>29</td>\n",
              "      <td>50,000 &lt; odom &lt;= 100,000</td>\n",
              "      <td>5</td>\n",
              "      <td>7</td>\n",
              "      <td>2018</td>\n",
              "      <td>5.0</td>\n",
              "      <td>14262.00</td>\n",
              "    </tr>\n",
              "    <tr>\n",
              "      <th>3063</th>\n",
              "      <td>1</td>\n",
              "      <td>1998.0</td>\n",
              "      <td>chevrolet silverado</td>\n",
              "      <td>2</td>\n",
              "      <td>8.0</td>\n",
              "      <td>gas</td>\n",
              "      <td>164000.0</td>\n",
              "      <td>automatic</td>\n",
              "      <td>pickup</td>\n",
              "      <td>unknown</td>\n",
              "      <td>True</td>\n",
              "      <td>2018-10-11</td>\n",
              "      <td>49</td>\n",
              "      <td>150,000 &lt; odom &lt;= 200,000</td>\n",
              "      <td>3</td>\n",
              "      <td>10</td>\n",
              "      <td>2018</td>\n",
              "      <td>21.0</td>\n",
              "      <td>7809.52</td>\n",
              "    </tr>\n",
              "    <tr>\n",
              "      <th>3808</th>\n",
              "      <td>1</td>\n",
              "      <td>2007.0</td>\n",
              "      <td>chevrolet tahoe</td>\n",
              "      <td>2</td>\n",
              "      <td>8.0</td>\n",
              "      <td>gas</td>\n",
              "      <td>200.0</td>\n",
              "      <td>automatic</td>\n",
              "      <td>SUV</td>\n",
              "      <td>red</td>\n",
              "      <td>False</td>\n",
              "      <td>2019-03-18</td>\n",
              "      <td>63</td>\n",
              "      <td>0 &lt; odom &lt;= 50,000</td>\n",
              "      <td>0</td>\n",
              "      <td>3</td>\n",
              "      <td>2019</td>\n",
              "      <td>13.0</td>\n",
              "      <td>15.38</td>\n",
              "    </tr>\n",
              "    <tr>\n",
              "      <th>3902</th>\n",
              "      <td>1</td>\n",
              "      <td>1996.0</td>\n",
              "      <td>ford f-150</td>\n",
              "      <td>1</td>\n",
              "      <td>8.0</td>\n",
              "      <td>gas</td>\n",
              "      <td>163000.0</td>\n",
              "      <td>manual</td>\n",
              "      <td>truck</td>\n",
              "      <td>white</td>\n",
              "      <td>False</td>\n",
              "      <td>2019-02-23</td>\n",
              "      <td>54</td>\n",
              "      <td>150,000 &lt; odom &lt;= 200,000</td>\n",
              "      <td>5</td>\n",
              "      <td>2</td>\n",
              "      <td>2019</td>\n",
              "      <td>24.0</td>\n",
              "      <td>6791.67</td>\n",
              "    </tr>\n",
              "    <tr>\n",
              "      <th>4140</th>\n",
              "      <td>1</td>\n",
              "      <td>2004.0</td>\n",
              "      <td>chevrolet silverado</td>\n",
              "      <td>3</td>\n",
              "      <td>8.0</td>\n",
              "      <td>diesel</td>\n",
              "      <td>83000.0</td>\n",
              "      <td>automatic</td>\n",
              "      <td>pickup</td>\n",
              "      <td>unknown</td>\n",
              "      <td>True</td>\n",
              "      <td>2019-02-04</td>\n",
              "      <td>14</td>\n",
              "      <td>50,000 &lt; odom &lt;= 100,000</td>\n",
              "      <td>0</td>\n",
              "      <td>2</td>\n",
              "      <td>2019</td>\n",
              "      <td>16.0</td>\n",
              "      <td>5187.50</td>\n",
              "    </tr>\n",
              "    <tr>\n",
              "      <th>...</th>\n",
              "      <td>...</td>\n",
              "      <td>...</td>\n",
              "      <td>...</td>\n",
              "      <td>...</td>\n",
              "      <td>...</td>\n",
              "      <td>...</td>\n",
              "      <td>...</td>\n",
              "      <td>...</td>\n",
              "      <td>...</td>\n",
              "      <td>...</td>\n",
              "      <td>...</td>\n",
              "      <td>...</td>\n",
              "      <td>...</td>\n",
              "      <td>...</td>\n",
              "      <td>...</td>\n",
              "      <td>...</td>\n",
              "      <td>...</td>\n",
              "      <td>...</td>\n",
              "      <td>...</td>\n",
              "    </tr>\n",
              "    <tr>\n",
              "      <th>49699</th>\n",
              "      <td>1</td>\n",
              "      <td>2007.0</td>\n",
              "      <td>chevrolet trailblazer</td>\n",
              "      <td>3</td>\n",
              "      <td>8.0</td>\n",
              "      <td>gas</td>\n",
              "      <td>143000.0</td>\n",
              "      <td>automatic</td>\n",
              "      <td>SUV</td>\n",
              "      <td>black</td>\n",
              "      <td>True</td>\n",
              "      <td>2018-08-06</td>\n",
              "      <td>28</td>\n",
              "      <td>odom &gt; 900,000</td>\n",
              "      <td>0</td>\n",
              "      <td>8</td>\n",
              "      <td>2018</td>\n",
              "      <td>12.0</td>\n",
              "      <td>11916.67</td>\n",
              "    </tr>\n",
              "    <tr>\n",
              "      <th>49709</th>\n",
              "      <td>1</td>\n",
              "      <td>2011.0</td>\n",
              "      <td>ford f-150</td>\n",
              "      <td>3</td>\n",
              "      <td>8.0</td>\n",
              "      <td>gas</td>\n",
              "      <td>139700.0</td>\n",
              "      <td>other</td>\n",
              "      <td>pickup</td>\n",
              "      <td>red</td>\n",
              "      <td>True</td>\n",
              "      <td>2019-03-11</td>\n",
              "      <td>18</td>\n",
              "      <td>100,000 &lt; odom &lt;= 150,000</td>\n",
              "      <td>0</td>\n",
              "      <td>3</td>\n",
              "      <td>2019</td>\n",
              "      <td>9.0</td>\n",
              "      <td>15522.22</td>\n",
              "    </tr>\n",
              "    <tr>\n",
              "      <th>50245</th>\n",
              "      <td>1</td>\n",
              "      <td>1986.0</td>\n",
              "      <td>chevrolet silverado</td>\n",
              "      <td>2</td>\n",
              "      <td>8.0</td>\n",
              "      <td>gas</td>\n",
              "      <td>90420.0</td>\n",
              "      <td>automatic</td>\n",
              "      <td>truck</td>\n",
              "      <td>red</td>\n",
              "      <td>True</td>\n",
              "      <td>2018-11-30</td>\n",
              "      <td>50</td>\n",
              "      <td>odom &gt; 900,000</td>\n",
              "      <td>4</td>\n",
              "      <td>11</td>\n",
              "      <td>2018</td>\n",
              "      <td>33.0</td>\n",
              "      <td>2740.00</td>\n",
              "    </tr>\n",
              "    <tr>\n",
              "      <th>50393</th>\n",
              "      <td>1</td>\n",
              "      <td>2003.0</td>\n",
              "      <td>gmc sierra 2500hd</td>\n",
              "      <td>2</td>\n",
              "      <td>8.0</td>\n",
              "      <td>diesel</td>\n",
              "      <td>212300.0</td>\n",
              "      <td>automatic</td>\n",
              "      <td>pickup</td>\n",
              "      <td>black</td>\n",
              "      <td>True</td>\n",
              "      <td>2019-04-12</td>\n",
              "      <td>28</td>\n",
              "      <td>200,000 &lt; odom &lt;= 250,000</td>\n",
              "      <td>4</td>\n",
              "      <td>4</td>\n",
              "      <td>2019</td>\n",
              "      <td>17.0</td>\n",
              "      <td>12488.24</td>\n",
              "    </tr>\n",
              "    <tr>\n",
              "      <th>51256</th>\n",
              "      <td>1</td>\n",
              "      <td>2012.0</td>\n",
              "      <td>honda civic</td>\n",
              "      <td>3</td>\n",
              "      <td>4.0</td>\n",
              "      <td>gas</td>\n",
              "      <td>71262.0</td>\n",
              "      <td>automatic</td>\n",
              "      <td>sedan</td>\n",
              "      <td>blue</td>\n",
              "      <td>False</td>\n",
              "      <td>2018-05-06</td>\n",
              "      <td>53</td>\n",
              "      <td>50,000 &lt; odom &lt;= 100,000</td>\n",
              "      <td>6</td>\n",
              "      <td>5</td>\n",
              "      <td>2018</td>\n",
              "      <td>7.0</td>\n",
              "      <td>10180.29</td>\n",
              "    </tr>\n",
              "  </tbody>\n",
              "</table>\n",
              "<p>789 rows × 19 columns</p>\n",
              "</div>"
            ],
            "text/plain": [
              "       price  model_year                  model  condition  cylinders    fuel  \\\n",
              "405        1      2014.0       chevrolet camaro          3        6.0     gas   \n",
              "3063       1      1998.0    chevrolet silverado          2        8.0     gas   \n",
              "3808       1      2007.0        chevrolet tahoe          2        8.0     gas   \n",
              "3902       1      1996.0             ford f-150          1        8.0     gas   \n",
              "4140       1      2004.0    chevrolet silverado          3        8.0  diesel   \n",
              "...      ...         ...                    ...        ...        ...     ...   \n",
              "49699      1      2007.0  chevrolet trailblazer          3        8.0     gas   \n",
              "49709      1      2011.0             ford f-150          3        8.0     gas   \n",
              "50245      1      1986.0    chevrolet silverado          2        8.0     gas   \n",
              "50393      1      2003.0      gmc sierra 2500hd          2        8.0  diesel   \n",
              "51256      1      2012.0            honda civic          3        4.0     gas   \n",
              "\n",
              "       odometer transmission    type paint_color  is_4wd date_posted  \\\n",
              "405     71310.0    automatic   coupe     unknown   False  2018-07-14   \n",
              "3063   164000.0    automatic  pickup     unknown    True  2018-10-11   \n",
              "3808      200.0    automatic     SUV         red   False  2019-03-18   \n",
              "3902   163000.0       manual   truck       white   False  2019-02-23   \n",
              "4140    83000.0    automatic  pickup     unknown    True  2019-02-04   \n",
              "...         ...          ...     ...         ...     ...         ...   \n",
              "49699  143000.0    automatic     SUV       black    True  2018-08-06   \n",
              "49709  139700.0        other  pickup         red    True  2019-03-11   \n",
              "50245   90420.0    automatic   truck         red    True  2018-11-30   \n",
              "50393  212300.0    automatic  pickup       black    True  2019-04-12   \n",
              "51256   71262.0    automatic   sedan        blue   False  2018-05-06   \n",
              "\n",
              "       days_listed                 odom_range  day_of_week  month  year  \\\n",
              "405             29   50,000 < odom <= 100,000            5      7  2018   \n",
              "3063            49  150,000 < odom <= 200,000            3     10  2018   \n",
              "3808            63         0 < odom <= 50,000            0      3  2019   \n",
              "3902            54  150,000 < odom <= 200,000            5      2  2019   \n",
              "4140            14   50,000 < odom <= 100,000            0      2  2019   \n",
              "...            ...                        ...          ...    ...   ...   \n",
              "49699           28             odom > 900,000            0      8  2018   \n",
              "49709           18  100,000 < odom <= 150,000            0      3  2019   \n",
              "50245           50             odom > 900,000            4     11  2018   \n",
              "50393           28  200,000 < odom <= 250,000            4      4  2019   \n",
              "51256           53   50,000 < odom <= 100,000            6      5  2018   \n",
              "\n",
              "       vehicle_age  avg_mileage_per_year  \n",
              "405            5.0              14262.00  \n",
              "3063          21.0               7809.52  \n",
              "3808          13.0                 15.38  \n",
              "3902          24.0               6791.67  \n",
              "4140          16.0               5187.50  \n",
              "...            ...                   ...  \n",
              "49699         12.0              11916.67  \n",
              "49709          9.0              15522.22  \n",
              "50245         33.0               2740.00  \n",
              "50393         17.0              12488.24  \n",
              "51256          7.0              10180.29  \n",
              "\n",
              "[789 rows x 19 columns]"
            ]
          },
          "metadata": {}
        }
      ]
    },
    {
      "cell_type": "markdown",
      "source": "Se encuentran carros en excelente estado con precios menores a 10 cosa que no es normal",
      "metadata": {}
    },
    {
      "cell_type": "markdown",
      "source": "## Estudiar y tratar valores atípicos",
      "metadata": {}
    },
    {
      "cell_type": "code",
      "source": "# Determina los límites inferiores para valores atípicos\nprice_lim_inf = int(df['price'].quantile(0.02))\nprint('límite inferior de precio: ',price_lim_inf)",
      "metadata": {
        "scrolled": true
      },
      "execution_count": 35,
      "outputs": [
        {
          "name": "stdout",
          "output_type": "stream",
          "text": "límite inferior de precio:  371\n"
        }
      ]
    },
    {
      "cell_type": "code",
      "source": "# Determinar los límites superiores para valores atípicos\nprice_lim_sup = int(df['price'].quantile(.95))\nprint('límite superior de precio: ',price_lim_sup)\n\nv_age_lim_sup = int(df['vehicle_age'].quantile(.95))\nprint('límite superior de edad del vehículo: ',v_age_lim_sup)\n\nodom_lim_sup = int(df['odometer'].quantile(.95))\nprint('límite superior de millaje: ',odom_lim_sup)",
      "metadata": {
        "scrolled": true
      },
      "execution_count": 36,
      "outputs": [
        {
          "name": "stdout",
          "output_type": "stream",
          "text": "límite superior de precio:  30300\n\nlímite superior de edad del vehículo:  20\n\nlímite superior de millaje:  217000\n"
        }
      ]
    },
    {
      "cell_type": "code",
      "source": "#Se obtiene el porcentaje de valores atípicos en las columnas problemáticas\ndict = {'price, fijando el límite inferior,':'price< @price_lim_inf',\n        'price, fijando el límite superior,': 'price> @price_lim_sup',\n        'vehicle_age, fijando el limite superior':'vehicle_age> @v_age_lim_sup',\n       'odometer, fijando el límite superior,':'odometer>@odom_lim_sup'}\n\nprint('Porcentaje de valores atípicos:')\nfor key,value in dict.items():\n    print('en la columna',key, 'es de',round(df.query(value)['price'].count() / total_values *100,2),'%')\n    print()",
      "metadata": {
        "scrolled": true
      },
      "execution_count": 37,
      "outputs": [
        {
          "name": "stdout",
          "output_type": "stream",
          "text": "Porcentaje de valores atípicos:\n\nen la columna price, fijando el límite inferior, es de 1.98 %\n\n\n\nen la columna price, fijando el límite superior, es de 4.93 %\n\n\n\nen la columna vehicle_age, fijando el limite superior es de 4.03 %\n\n\n\nen la columna odometer, fijando el límite superior, es de 4.92 %\n\n\n"
        }
      ]
    },
    {
      "cell_type": "markdown",
      "source": "Los porcentajes de valores atípicos son menores al 5% por lo que se eliminan para mejorar la visualización de los datos.",
      "metadata": {}
    },
    {
      "cell_type": "code",
      "source": "# Almacena los datos sin valores atípicos en un DataFrame separado\ndf_with_limits = df.query('@price_lim_inf < price < @price_lim_sup and vehicle_age < @v_age_lim_sup and odometer<@odom_lim_sup')\n",
      "metadata": {
        "scrolled": true
      },
      "execution_count": 38,
      "outputs": []
    },
    {
      "cell_type": "markdown",
      "source": "## Estudiar parámetros principales sin valores atípicos",
      "metadata": {}
    },
    {
      "cell_type": "markdown",
      "source": "A continuación se muestran los datos filtrados sin valores típicos y los originales",
      "metadata": {}
    },
    {
      "cell_type": "code",
      "source": "#analizar histograma y datos de los parámetros principales\nplt.subplots(figsize=(20, 8))\n\ncolumns = ['price','vehicle_age','odometer','cylinders','condition']\n\nfor i, column in enumerate(columns):\n    if column == 'vehicle_age':\n            df.query('model_year>0').hist(column=column, ax=plt.subplot(2, len(columns), i + 1))\n            plt.xticks(rotation=60)\n            df_with_limits.query('model_year>0').hist(column, ax=plt.subplot(2, len(columns), len(columns) + i + 1))\n            plt.xticks(rotation=60)\n    elif column =='cylinders':\n        df.query('cylinders>0').hist(column=column, ax=plt.subplot(2, len(columns), i + 1))\n        plt.xticks(rotation=60)\n        df_with_limits.query('cylinders>0').hist(column, ax=plt.subplot(2, len(columns), len(columns) + i + 1))\n        plt.xticks(rotation=60)\n    else:\n        df.hist(column=column, ax=plt.subplot(2, len(columns), i + 1))\n        plt.xticks(rotation=60)\n        df_with_limits.hist(column, ax=plt.subplot(2, len(columns), len(columns) + i + 1))\n        plt.xticks(rotation=60)\n\nplt.show()",
      "metadata": {
        "scrolled": true
      },
      "execution_count": 39,
      "outputs": [
        {
          "output_type": "display_data",
          "data": {
            "image/png": "[encoded data removed]",
            "text/plain": [
              "<Figure size 1440x576 with 10 Axes>"
            ]
          },
          "metadata": {
            "needs_background": "light"
          }
        }
      ]
    },
    {
      "cell_type": "markdown",
      "source": "Al analizar los histogramas de la columna 'price' con los datos originales, los valores atípicos altos dan un histograma con solo una columna muy alta; sin embargo al eliminarlos, se obtiene un histograma donde los precios mayormente son menores a 10,000 y conforme el precio sube, hay menores vehiculos de estos costos.\n\nEn la columna 'vechicle_age', con los datos origniales, hay un pico alto entre la edad de 0 a 25 y el resto de la gráfica esta aparentemente vacio por los pocos valores atípicos. Al limpiar los datos, se obtiene una distribución bimodal con un pico en 5 y otro en alrededor de 10.\n\nLa columna 'odometer' inicialmente mostraba un histograma limitado. Tras fijar el limite superior, se obtuvo un histograma con distribución normal la cual tiene un pico entre 100,000 y 150,000.\n\nLos datos de las columnas 'cylinders' y 'condition' se mantienen iguales pues los datos originales no muestran valores atípicos que afecten el análisis.",
      "metadata": {}
    },
    {
      "cell_type": "markdown",
      "source": "## Periodo de colocación de los anuncios\n\nA continuación de analizan los días en que los anuncios fueron mostrados (columna 'days_listed')",
      "metadata": {}
    },
    {
      "cell_type": "code",
      "source": "plt.subplots(figsize=(10, 5))\ndf_with_limits.hist('days_listed',ax=plt.subplot(1,2,1))\nplt.title('days listed')\ndf_with_limits.boxplot('days_listed',ax=plt.subplot(1,2,2))\nplt.title('days listed')\nplt.show()",
      "metadata": {
        "scrolled": true
      },
      "execution_count": 40,
      "outputs": [
        {
          "output_type": "display_data",
          "data": {
            "image/png": "[encoded data removed]",
            "text/plain": [
              "<Figure size 720x360 with 2 Axes>"
            ]
          },
          "metadata": {
            "needs_background": "light"
          }
        }
      ]
    },
    {
      "cell_type": "code",
      "source": "df_with_limits['days_listed'].describe()",
      "metadata": {},
      "execution_count": 41,
      "outputs": [
        {
          "execution_count": 41,
          "output_type": "execute_result",
          "data": {
            "text/plain": [
              "count    42695.000000\n",
              "mean        39.542569\n",
              "std         28.212529\n",
              "min          0.000000\n",
              "25%         19.000000\n",
              "50%         33.000000\n",
              "75%         53.000000\n",
              "max        271.000000\n",
              "Name: days_listed, dtype: float64"
            ]
          },
          "metadata": {}
        }
      ]
    },
    {
      "cell_type": "code",
      "source": "df_with_limits['days_listed'].median()",
      "metadata": {
        "scrolled": true
      },
      "execution_count": 42,
      "outputs": [
        {
          "execution_count": 42,
          "output_type": "execute_result",
          "data": {
            "text/plain": [
              "33.0"
            ]
          },
          "metadata": {}
        }
      ]
    },
    {
      "cell_type": "markdown",
      "source": "Como se muestra en las gráficas y datos anteriores, en promedio los anuncios duran 39 días y se tiene una mediana de 33 días.\n\nEl periodo de colocación habitual de un anuncio esta entre 0 y 50 días.\n\nA continuación se analizan los anuncios que se eliminaron rápidamente y los que son publicados por un tiempo anormalmente largo.",
      "metadata": {}
    },
    {
      "cell_type": "code",
      "source": "for filter in ['condition', 'cylinders', 'fuel','transmission']:\n    print(df_with_limits.query('days_listed>100').groupby(filter)['price'].count())\n    print()",
      "metadata": {
        "scrolled": true
      },
      "execution_count": 43,
      "outputs": [
        {
          "name": "stdout",
          "output_type": "stream",
          "text": "condition\n\n0      3\n\n1     24\n\n2    616\n\n3    824\n\n4    142\n\n5      2\n\nName: price, dtype: int64\n\n\n\ncylinders\n\n3.0       2\n\n4.0     537\n\n5.0      10\n\n6.0     537\n\n8.0     519\n\n10.0      6\n\nName: price, dtype: int64\n\n\n\nfuel\n\ndiesel      72\n\ngas       1514\n\nhybrid      21\n\nother        4\n\nName: price, dtype: int64\n\n\n\ntransmission\n\nautomatic    1510\n\nmanual         65\n\nother          36\n\nName: price, dtype: int64\n\n\n"
        }
      ]
    },
    {
      "cell_type": "markdown",
      "source": "La mayoría de los vehiculos que duraron más de 100 días anunciados tienen la siguientes características:\n- tipo de condición 2 y 3 (bien y excelente)\n- 4, 6 y 8 cilindros\n- tipo de combustible: gas\n- automáticos",
      "metadata": {}
    },
    {
      "cell_type": "code",
      "source": "print('porcentaje de valores atípicos altos: ',round(df_with_limits.query('days_listed>100')['price'].count()/total_values*100,2),'%')",
      "metadata": {
        "scrolled": true
      },
      "execution_count": 44,
      "outputs": [
        {
          "name": "stdout",
          "output_type": "stream",
          "text": "porcentaje de valores atípicos altos:  3.13 %\n"
        }
      ]
    },
    {
      "cell_type": "code",
      "source": "plt.subplots(figsize=(10, 5))\ndf_with_limits.query('days_listed<100').hist('days_listed',ax=plt.subplot(1,2,1))\ndf_with_limits.query('days_listed<100').boxplot('days_listed',ax=plt.subplot(1,2,2))\nplt.show()",
      "metadata": {
        "scrolled": true
      },
      "execution_count": 45,
      "outputs": [
        {
          "output_type": "display_data",
          "data": {
            "image/png": "[encoded data removed]",
            "text/plain": [
              "<Figure size 720x360 with 2 Axes>"
            ]
          },
          "metadata": {
            "needs_background": "light"
          }
        }
      ]
    },
    {
      "cell_type": "code",
      "source": "df_with_limits.query('days_listed<100')['days_listed'].describe()",
      "metadata": {},
      "execution_count": 46,
      "outputs": [
        {
          "execution_count": 46,
          "output_type": "execute_result",
          "data": {
            "text/plain": [
              "count    41012.00000\n",
              "mean        36.12077\n",
              "std         22.51922\n",
              "min          0.00000\n",
              "25%         18.00000\n",
              "50%         32.00000\n",
              "75%         50.00000\n",
              "max         99.00000\n",
              "Name: days_listed, dtype: float64"
            ]
          },
          "metadata": {}
        }
      ]
    },
    {
      "cell_type": "code",
      "source": "df_with_limits.query('days_listed<100')['days_listed'].median()",
      "metadata": {},
      "execution_count": 47,
      "outputs": [
        {
          "execution_count": 47,
          "output_type": "execute_result",
          "data": {
            "text/plain": [
              "32.0"
            ]
          },
          "metadata": {}
        }
      ]
    },
    {
      "cell_type": "markdown",
      "source": "Sin tomar en cuenta los valores atípicamente largos, en promedio los vehiculos duran anunciados un promedio de 36 días con una mediana de 32 días. \n\nEn comparación con los datos anteriores, el promedio bajo 3 días y la mediana 1 día.",
      "metadata": {}
    },
    {
      "cell_type": "markdown",
      "source": "## Precio promedio por cada tipo de vehículo",
      "metadata": {}
    },
    {
      "cell_type": "markdown",
      "source": "Se analiza el número de anuncios y el precio promedio de cada tipo de vehículo.",
      "metadata": {}
    },
    {
      "cell_type": "code",
      "source": "df_with_limits.pivot_table(index = 'type',values='price',aggfunc=['count','mean'])",
      "metadata": {},
      "execution_count": 48,
      "outputs": [
        {
          "execution_count": 48,
          "output_type": "execute_result",
          "data": {
            "text/html": [
              "<div>\n",
              "<style scoped>\n",
              "    .dataframe tbody tr th:only-of-type {\n",
              "        vertical-align: middle;\n",
              "    }\n",
              "\n",
              "    .dataframe tbody tr th {\n",
              "        vertical-align: top;\n",
              "    }\n",
              "\n",
              "    .dataframe thead tr th {\n",
              "        text-align: left;\n",
              "    }\n",
              "\n",
              "    .dataframe thead tr:last-of-type th {\n",
              "        text-align: right;\n",
              "    }\n",
              "</style>\n",
              "<table border=\"1\" class=\"dataframe\">\n",
              "  <thead>\n",
              "    <tr>\n",
              "      <th></th>\n",
              "      <th>count</th>\n",
              "      <th>mean</th>\n",
              "    </tr>\n",
              "    <tr>\n",
              "      <th></th>\n",
              "      <th>price</th>\n",
              "      <th>price</th>\n",
              "    </tr>\n",
              "    <tr>\n",
              "      <th>type</th>\n",
              "      <th></th>\n",
              "      <th></th>\n",
              "    </tr>\n",
              "  </thead>\n",
              "  <tbody>\n",
              "    <tr>\n",
              "      <th>SUV</th>\n",
              "      <td>10589</td>\n",
              "      <td>10826.740769</td>\n",
              "    </tr>\n",
              "    <tr>\n",
              "      <th>bus</th>\n",
              "      <td>13</td>\n",
              "      <td>25714.615385</td>\n",
              "    </tr>\n",
              "    <tr>\n",
              "      <th>convertible</th>\n",
              "      <td>276</td>\n",
              "      <td>13919.605072</td>\n",
              "    </tr>\n",
              "    <tr>\n",
              "      <th>coupe</th>\n",
              "      <td>1769</td>\n",
              "      <td>14599.055399</td>\n",
              "    </tr>\n",
              "    <tr>\n",
              "      <th>hatchback</th>\n",
              "      <td>955</td>\n",
              "      <td>7068.730890</td>\n",
              "    </tr>\n",
              "    <tr>\n",
              "      <th>mini-van</th>\n",
              "      <td>1063</td>\n",
              "      <td>8348.624647</td>\n",
              "    </tr>\n",
              "    <tr>\n",
              "      <th>offroad</th>\n",
              "      <td>142</td>\n",
              "      <td>15964.070423</td>\n",
              "    </tr>\n",
              "    <tr>\n",
              "      <th>other</th>\n",
              "      <td>210</td>\n",
              "      <td>10462.300000</td>\n",
              "    </tr>\n",
              "    <tr>\n",
              "      <th>pickup</th>\n",
              "      <td>5264</td>\n",
              "      <td>15196.687690</td>\n",
              "    </tr>\n",
              "    <tr>\n",
              "      <th>sedan</th>\n",
              "      <td>11220</td>\n",
              "      <td>7286.037611</td>\n",
              "    </tr>\n",
              "    <tr>\n",
              "      <th>truck</th>\n",
              "      <td>9304</td>\n",
              "      <td>15627.112210</td>\n",
              "    </tr>\n",
              "    <tr>\n",
              "      <th>van</th>\n",
              "      <td>517</td>\n",
              "      <td>9154.379110</td>\n",
              "    </tr>\n",
              "    <tr>\n",
              "      <th>wagon</th>\n",
              "      <td>1373</td>\n",
              "      <td>9335.286963</td>\n",
              "    </tr>\n",
              "  </tbody>\n",
              "</table>\n",
              "</div>"
            ],
            "text/plain": [
              "             count          mean\n",
              "             price         price\n",
              "type                            \n",
              "SUV          10589  10826.740769\n",
              "bus             13  25714.615385\n",
              "convertible    276  13919.605072\n",
              "coupe         1769  14599.055399\n",
              "hatchback      955   7068.730890\n",
              "mini-van      1063   8348.624647\n",
              "offroad        142  15964.070423\n",
              "other          210  10462.300000\n",
              "pickup        5264  15196.687690\n",
              "sedan        11220   7286.037611\n",
              "truck         9304  15627.112210\n",
              "van            517   9154.379110\n",
              "wagon         1373   9335.286963"
            ]
          },
          "metadata": {}
        }
      ]
    },
    {
      "cell_type": "markdown",
      "source": "A continuación, se muestra un gráfico con la cantidad de anuncios en cada tipo de vehículo.",
      "metadata": {}
    },
    {
      "cell_type": "code",
      "source": "df_with_limits.groupby('type').count()['price'].sort_values(ascending=False).plot(kind='bar')\nplt.show()",
      "metadata": {},
      "execution_count": 49,
      "outputs": [
        {
          "output_type": "display_data",
          "data": {
            "image/png": "[encoded data removed]",
            "text/plain": [
              "<Figure size 432x288 with 1 Axes>"
            ]
          },
          "metadata": {
            "needs_background": "light"
          }
        }
      ]
    },
    {
      "cell_type": "markdown",
      "source": "Los 2 tipos de vehiculo con mayor número de anuncios son sedan y SUV.\n\nLes siguen truck, pickup, entre otros con menor número de anuncios.",
      "metadata": {}
    },
    {
      "cell_type": "markdown",
      "source": "## Factores de precio",
      "metadata": {}
    },
    {
      "cell_type": "markdown",
      "source": "A continuación se analizan distintos factores para ver su impacto en el precio. Para ello se toman como base los 2 tipos con mayor anuncios mostrados en el gráfico anterior que son sedan y SUV.\n\nLos factores a tomar en cuenta son:\n- edad\n- millaje\n- condición\n- tipo de transmisión\n- color\n\nPara las variables numéricas se crea una matriz de dispersión y para las categoricas graficos de caja.",
      "metadata": {}
    },
    {
      "cell_type": "markdown",
      "source": "**Análisis de vehiculo tipo Sedan**",
      "metadata": {}
    },
    {
      "cell_type": "code",
      "source": "# se analizan: edad, millaje y condición contra el precio del tipo sedan\ndf_with_limits_sedan = df_with_limits.query('type == \"sedan\"')\ndf_with_limits_sedan = df_with_limits_sedan.drop(['model_year', 'model', 'cylinders', 'fuel','is_4wd','date_posted',\n                        'days_listed','odom_range', 'day_of_week', 'month','year','avg_mileage_per_year'], axis=1)\n\npd.plotting.scatter_matrix(df_with_limits_sedan,figsize=(8,5))\nplt.show()",
      "metadata": {
        "scrolled": true
      },
      "execution_count": 50,
      "outputs": [
        {
          "output_type": "display_data",
          "data": {
            "image/png": "[encoded data removed]",
            "text/plain": [
              "<Figure size 576x360 with 16 Axes>"
            ]
          },
          "metadata": {
            "needs_background": "light"
          }
        }
      ]
    },
    {
      "cell_type": "code",
      "source": "df_with_limits_sedan.corr()",
      "metadata": {},
      "execution_count": 51,
      "outputs": [
        {
          "execution_count": 51,
          "output_type": "execute_result",
          "data": {
            "text/html": [
              "<div>\n",
              "<style scoped>\n",
              "    .dataframe tbody tr th:only-of-type {\n",
              "        vertical-align: middle;\n",
              "    }\n",
              "\n",
              "    .dataframe tbody tr th {\n",
              "        vertical-align: top;\n",
              "    }\n",
              "\n",
              "    .dataframe thead th {\n",
              "        text-align: right;\n",
              "    }\n",
              "</style>\n",
              "<table border=\"1\" class=\"dataframe\">\n",
              "  <thead>\n",
              "    <tr style=\"text-align: right;\">\n",
              "      <th></th>\n",
              "      <th>price</th>\n",
              "      <th>condition</th>\n",
              "      <th>odometer</th>\n",
              "      <th>vehicle_age</th>\n",
              "    </tr>\n",
              "  </thead>\n",
              "  <tbody>\n",
              "    <tr>\n",
              "      <th>price</th>\n",
              "      <td>1.000000</td>\n",
              "      <td>0.310851</td>\n",
              "      <td>-0.626363</td>\n",
              "      <td>-0.694672</td>\n",
              "    </tr>\n",
              "    <tr>\n",
              "      <th>condition</th>\n",
              "      <td>0.310851</td>\n",
              "      <td>1.000000</td>\n",
              "      <td>-0.303287</td>\n",
              "      <td>-0.282826</td>\n",
              "    </tr>\n",
              "    <tr>\n",
              "      <th>odometer</th>\n",
              "      <td>-0.626363</td>\n",
              "      <td>-0.303287</td>\n",
              "      <td>1.000000</td>\n",
              "      <td>0.639999</td>\n",
              "    </tr>\n",
              "    <tr>\n",
              "      <th>vehicle_age</th>\n",
              "      <td>-0.694672</td>\n",
              "      <td>-0.282826</td>\n",
              "      <td>0.639999</td>\n",
              "      <td>1.000000</td>\n",
              "    </tr>\n",
              "  </tbody>\n",
              "</table>\n",
              "</div>"
            ],
            "text/plain": [
              "                price  condition  odometer  vehicle_age\n",
              "price        1.000000   0.310851 -0.626363    -0.694672\n",
              "condition    0.310851   1.000000 -0.303287    -0.282826\n",
              "odometer    -0.626363  -0.303287  1.000000     0.639999\n",
              "vehicle_age -0.694672  -0.282826  0.639999     1.000000"
            ]
          },
          "metadata": {}
        }
      ]
    },
    {
      "cell_type": "markdown",
      "source": "En cuanto al tipo Sedan se observa que:\n- en la relación precio contra la condicion del vehiculo, mientras mejor la condición, más alto tiende a ser el precio.\n- en la relación precio contra millaje, a mayor millaje, menor es el precio.\n- en la relación precio contra edad del vehiculo, a mayor edad, menor es el precio.",
      "metadata": {}
    },
    {
      "cell_type": "code",
      "source": "df_with_limits_sedan.groupby('transmission')['price'].count()",
      "metadata": {
        "scrolled": true
      },
      "execution_count": 52,
      "outputs": [
        {
          "execution_count": 52,
          "output_type": "execute_result",
          "data": {
            "text/plain": [
              "transmission\n",
              "automatic    10635\n",
              "manual         515\n",
              "other           70\n",
              "Name: price, dtype: int64"
            ]
          },
          "metadata": {}
        }
      ]
    },
    {
      "cell_type": "markdown",
      "source": "Cada tipo de transmisión tiene más de 50 entradas o anuncios, por lo que esta muestra es válida para el análisis.",
      "metadata": {}
    },
    {
      "cell_type": "code",
      "source": "df_with_limits_sedan.boxplot(column='price',by='transmission',figsize=(12,5))\nplt.show()",
      "metadata": {},
      "execution_count": 53,
      "outputs": [
        {
          "output_type": "display_data",
          "data": {
            "image/png": "[encoded data removed]",
            "text/plain": [
              "<Figure size 864x360 with 1 Axes>"
            ]
          },
          "metadata": {
            "needs_background": "light"
          }
        }
      ]
    },
    {
      "cell_type": "markdown",
      "source": "Los diagramas de caja anteriores muestran que, en cuanto al tipo de transmición, en promedio los precios son similares sin embargo los vehiculos automaticos tienden a subir más de precio que los demás.",
      "metadata": {}
    },
    {
      "cell_type": "code",
      "source": "df_with_limits_sedan.groupby('paint_color')['price'].count()",
      "metadata": {},
      "execution_count": 54,
      "outputs": [
        {
          "execution_count": 54,
          "output_type": "execute_result",
          "data": {
            "text/plain": [
              "paint_color\n",
              "black      1676\n",
              "blue       1140\n",
              "brown       226\n",
              "custom      248\n",
              "green       166\n",
              "grey       1529\n",
              "orange        9\n",
              "purple       22\n",
              "red         864\n",
              "silver     1918\n",
              "unknown    2012\n",
              "white      1391\n",
              "yellow       19\n",
              "Name: price, dtype: int64"
            ]
          },
          "metadata": {}
        }
      ]
    },
    {
      "cell_type": "markdown",
      "source": "Los colores naranja, morado y amarillo no pueden tomarse como referencia porque son una muestra muy pequeña. No se toman en cuenta para el analisis del tipo sedan.",
      "metadata": {}
    },
    {
      "cell_type": "code",
      "source": "df_with_limits_sedan.query('paint_color not in [\"orange\",\"purple\",\"yellow\"]').boxplot(column='price',by='paint_color',figsize=(12,5))\nplt.show()",
      "metadata": {},
      "execution_count": 55,
      "outputs": [
        {
          "output_type": "display_data",
          "data": {
            "image/png": "[encoded data removed]",
            "text/plain": [
              "<Figure size 864x360 with 1 Axes>"
            ]
          },
          "metadata": {
            "needs_background": "light"
          }
        }
      ]
    },
    {
      "cell_type": "code",
      "source": "df_with_limits_sedan.query('paint_color not in [\"orange\",\"purple\",\"yellow\"]').groupby('paint_color')['price'].mean().sort_values(ascending=False)",
      "metadata": {},
      "execution_count": 56,
      "outputs": [
        {
          "execution_count": 56,
          "output_type": "execute_result",
          "data": {
            "text/plain": [
              "paint_color\n",
              "white      7846.470884\n",
              "black      7757.622912\n",
              "red        7344.459491\n",
              "unknown    7303.029821\n",
              "grey       7283.461086\n",
              "custom     7259.830645\n",
              "silver     7103.615746\n",
              "blue       6841.433333\n",
              "brown      5530.353982\n",
              "green      5254.102410\n",
              "Name: price, dtype: float64"
            ]
          },
          "metadata": {}
        }
      ]
    },
    {
      "cell_type": "code",
      "source": "df_with_limits_sedan.query('paint_color not in [\"orange\",\"purple\",\"yellow\"]').groupby('paint_color')['price'].median().sort_values(ascending=False)",
      "metadata": {},
      "execution_count": 57,
      "outputs": [
        {
          "execution_count": 57,
          "output_type": "execute_result",
          "data": {
            "text/plain": [
              "paint_color\n",
              "black      6995.0\n",
              "white      6995.0\n",
              "grey       6500.0\n",
              "unknown    6495.0\n",
              "custom     6277.5\n",
              "red        6200.0\n",
              "silver     5995.0\n",
              "blue       5939.0\n",
              "brown      4500.0\n",
              "green      4050.0\n",
              "Name: price, dtype: float64"
            ]
          },
          "metadata": {}
        }
      ]
    },
    {
      "cell_type": "markdown",
      "source": "En cuanto a la relación del precio con el color del vehiculo, los colores con tendencia a precio alto son negro, personalizado, gris, rojo y blanco, que tienen el mismo rango; seguidos de los colores azul y plateado y finalmente, los de precio más bajo tienden a ser los cafes y verdes.",
      "metadata": {}
    },
    {
      "cell_type": "markdown",
      "source": "**Análisis de vehiculo tipo SUV**",
      "metadata": {}
    },
    {
      "cell_type": "code",
      "source": "# se analizan: edad, millaje y condición contra el precio del tipo SUV\ndf_with_limits_suv = df_with_limits.query('type == \"SUV\"')\ndf_with_limits_suv = df_with_limits_suv.drop(['model_year', 'model', 'cylinders', 'fuel','is_4wd','date_posted',\n                        'days_listed', 'odom_range','day_of_week', 'month','year','avg_mileage_per_year'], axis=1)\n\npd.plotting.scatter_matrix(df_with_limits_suv,figsize=(8,5))\nplt.show()",
      "metadata": {},
      "execution_count": 58,
      "outputs": [
        {
          "output_type": "display_data",
          "data": {
            "image/png": "[encoded data removed]",
            "text/plain": [
              "<Figure size 576x360 with 16 Axes>"
            ]
          },
          "metadata": {
            "needs_background": "light"
          }
        }
      ]
    },
    {
      "cell_type": "code",
      "source": "df_with_limits_suv.corr()",
      "metadata": {},
      "execution_count": 59,
      "outputs": [
        {
          "execution_count": 59,
          "output_type": "execute_result",
          "data": {
            "text/html": [
              "<div>\n",
              "<style scoped>\n",
              "    .dataframe tbody tr th:only-of-type {\n",
              "        vertical-align: middle;\n",
              "    }\n",
              "\n",
              "    .dataframe tbody tr th {\n",
              "        vertical-align: top;\n",
              "    }\n",
              "\n",
              "    .dataframe thead th {\n",
              "        text-align: right;\n",
              "    }\n",
              "</style>\n",
              "<table border=\"1\" class=\"dataframe\">\n",
              "  <thead>\n",
              "    <tr style=\"text-align: right;\">\n",
              "      <th></th>\n",
              "      <th>price</th>\n",
              "      <th>condition</th>\n",
              "      <th>odometer</th>\n",
              "      <th>vehicle_age</th>\n",
              "    </tr>\n",
              "  </thead>\n",
              "  <tbody>\n",
              "    <tr>\n",
              "      <th>price</th>\n",
              "      <td>1.000000</td>\n",
              "      <td>0.263642</td>\n",
              "      <td>-0.597280</td>\n",
              "      <td>-0.668164</td>\n",
              "    </tr>\n",
              "    <tr>\n",
              "      <th>condition</th>\n",
              "      <td>0.263642</td>\n",
              "      <td>1.000000</td>\n",
              "      <td>-0.277854</td>\n",
              "      <td>-0.266877</td>\n",
              "    </tr>\n",
              "    <tr>\n",
              "      <th>odometer</th>\n",
              "      <td>-0.597280</td>\n",
              "      <td>-0.277854</td>\n",
              "      <td>1.000000</td>\n",
              "      <td>0.638681</td>\n",
              "    </tr>\n",
              "    <tr>\n",
              "      <th>vehicle_age</th>\n",
              "      <td>-0.668164</td>\n",
              "      <td>-0.266877</td>\n",
              "      <td>0.638681</td>\n",
              "      <td>1.000000</td>\n",
              "    </tr>\n",
              "  </tbody>\n",
              "</table>\n",
              "</div>"
            ],
            "text/plain": [
              "                price  condition  odometer  vehicle_age\n",
              "price        1.000000   0.263642 -0.597280    -0.668164\n",
              "condition    0.263642   1.000000 -0.277854    -0.266877\n",
              "odometer    -0.597280  -0.277854  1.000000     0.638681\n",
              "vehicle_age -0.668164  -0.266877  0.638681     1.000000"
            ]
          },
          "metadata": {}
        }
      ]
    },
    {
      "cell_type": "markdown",
      "source": "En cuanto al tipo SUV se observa que:\n- en la relación precio contra la condicion del vehiculo, mientras mejor la condición, más alto tiende a ser el precio.\n- en la relación precio contra millaje, a mayor millaje, menor es el precio.\n- en la relación precio contra edad del vehiculo, a mayor edad, menor es el precio.",
      "metadata": {}
    },
    {
      "cell_type": "code",
      "source": "df_with_limits_suv.groupby('transmission')['price'].count()",
      "metadata": {},
      "execution_count": 60,
      "outputs": [
        {
          "execution_count": 60,
          "output_type": "execute_result",
          "data": {
            "text/plain": [
              "transmission\n",
              "automatic    10106\n",
              "manual         395\n",
              "other           88\n",
              "Name: price, dtype: int64"
            ]
          },
          "metadata": {}
        }
      ]
    },
    {
      "cell_type": "code",
      "source": "df_with_limits_suv.boxplot(column='price',by='transmission',figsize=(12,5))\nplt.show()",
      "metadata": {},
      "execution_count": 61,
      "outputs": [
        {
          "output_type": "display_data",
          "data": {
            "image/png": "[encoded data removed]",
            "text/plain": [
              "<Figure size 864x360 with 1 Axes>"
            ]
          },
          "metadata": {
            "needs_background": "light"
          }
        }
      ]
    },
    {
      "cell_type": "markdown",
      "source": "En el caso de los vehiculos de tipo SUV, los límites superiores del precio son similares mientras que el límite inferior de los de transmisión manual es ligeramente mayor a los automáticos y ambos son menores a otros tipos de transmisión. Al comparar los promedios, sucede lo mismo, el menor es el de los SUVs automáticos, seguidos por los de transmición manual y los del promedio más alto son los otros dos.",
      "metadata": {}
    },
    {
      "cell_type": "code",
      "source": "df_with_limits_suv.groupby('paint_color')['price'].count()",
      "metadata": {},
      "execution_count": 62,
      "outputs": [
        {
          "execution_count": 62,
          "output_type": "execute_result",
          "data": {
            "text/plain": [
              "paint_color\n",
              "black      1861\n",
              "blue        907\n",
              "brown       323\n",
              "custom      251\n",
              "green       346\n",
              "grey       1047\n",
              "orange       80\n",
              "purple       32\n",
              "red         761\n",
              "silver     1385\n",
              "unknown    1895\n",
              "white      1662\n",
              "yellow       39\n",
              "Name: price, dtype: int64"
            ]
          },
          "metadata": {}
        }
      ]
    },
    {
      "cell_type": "markdown",
      "source": "Los colores morado y amarillo no pueden tomarse como referencia porque son una muestra muy pequeña. No se toman en cuenta para el analisis del tipo SUV.",
      "metadata": {}
    },
    {
      "cell_type": "code",
      "source": "df_with_limits_suv.query('paint_color not in [\"purple\",\"yellow\"]').boxplot(column='price',by='paint_color',figsize=(12,5))\nplt.show()",
      "metadata": {
        "scrolled": true
      },
      "execution_count": 63,
      "outputs": [
        {
          "output_type": "display_data",
          "data": {
            "image/png": "[encoded data removed]",
            "text/plain": [
              "<Figure size 864x360 with 1 Axes>"
            ]
          },
          "metadata": {
            "needs_background": "light"
          }
        }
      ]
    },
    {
      "cell_type": "code",
      "source": "df_with_limits_suv.query('paint_color not in [\"purple\",\"yellow\"]').groupby('paint_color')['price'].mean().sort_values(ascending=False)",
      "metadata": {},
      "execution_count": 64,
      "outputs": [
        {
          "execution_count": 64,
          "output_type": "execute_result",
          "data": {
            "text/plain": [
              "paint_color\n",
              "orange     14917.987500\n",
              "black      12442.693176\n",
              "white      11627.404934\n",
              "unknown    10878.180475\n",
              "grey       10540.829990\n",
              "red        10334.670171\n",
              "silver     10187.156679\n",
              "custom     10131.438247\n",
              "green       8955.034682\n",
              "brown       8849.780186\n",
              "blue        8811.350606\n",
              "Name: price, dtype: float64"
            ]
          },
          "metadata": {}
        }
      ]
    },
    {
      "cell_type": "code",
      "source": "df_with_limits_suv.query('paint_color not in [\"purple\",\"yellow\"]').groupby('paint_color')['price'].median().sort_values(ascending=False)",
      "metadata": {},
      "execution_count": 65,
      "outputs": [
        {
          "execution_count": 65,
          "output_type": "execute_result",
          "data": {
            "text/plain": [
              "paint_color\n",
              "orange     16900.0\n",
              "black      11900.0\n",
              "white       9995.0\n",
              "unknown     8995.0\n",
              "custom      8990.0\n",
              "grey        8900.0\n",
              "silver      8900.0\n",
              "red         8500.0\n",
              "brown       7795.0\n",
              "blue        7195.0\n",
              "green       7147.5\n",
              "Name: price, dtype: float64"
            ]
          },
          "metadata": {}
        }
      ]
    },
    {
      "cell_type": "markdown",
      "source": "Al analizar el precio de los vehiculos SUV tomando en cuenta el color, pareciera que el color negro tiende a ser el más caro; esto tomando en cuenta su limite superior así como su promedio. Sin embargo, al comparar los promedios y las medianas, el color naranja es el de mayor precio. A este color le sigue el negro, entre otros. Los de promedio y mediana más bajos son el verde, cafe y azul.",
      "metadata": {}
    },
    {
      "cell_type": "markdown",
      "source": "## Conclusión general\n\nPrevio a la realización de este análisis, se tuvieron que modificar valores, eliminar filas con datos incompletos; así como llenar filas con valores representativos. \n\n- Se estandarizaron datos como el tipo de modelo del vehiculo ya que parece ser una entrada de datos manual y habia filas refiriendose al mismo vechiculo escrito de diferente forma. \n\nEn cuanto a los valores ausentes:\n- En la columna 'is_4wd' todos los valores existentes estaban marcados como 1, que representa un True, por lo que se fijaron los ausentes en 0 para representar un False.\n\n- En las columnas 'model_year' y 'cylinders' el 7.02 % y 10.21% de las filas, respectivamente, tenían datos ausentes. Para no eliminar las filas con otros parámetros importantes a considerar, se fijaron estos valores en cero.\n\n- En la columna 'paint_color', se fijaron los valores ausentes, los cuales representan el 17.99% de los datos, como 'unknown' (desconocido). \n\n- En la columna 'odometer' se optó por usar la mediana de cada decada como un valor representativo para las filas con valores ausentes. \n\nEn cuanto a los valores atípicos, las columnas 'price', 'vehicle_age' y 'odometer' tenían datos altos, los cuales no se tomaron en cuenta para el análisis. Asimismo, a la columna 'price' se le fijo un límite inferior pues había filas con precios extañamente bajos.",
      "metadata": {}
    },
    {
      "cell_type": "markdown",
      "source": "**Resultado del análisis**\nTomando como referencia los vehiculos de tipo Sedan y SUV se puede afirmar que, como es de esperarse, el precio de un vehiculo\n- tiende a ser más alto mientras mejor sea su condición (coeficientes de 0.31 y 0.26)\n- tiende a ser más bajo mientras mayor sea su millaje (coeficientes de -0.62 y -0.59)\n- tiende a ser más bajo mientras mayor sea su edad (coeficientes de -0.69 y -0.66)\n\nLos coeficientes de correlación en ambos tipos de vehiculo muestran que el orden de influencia de estos 3 factores es:\n1. edad del vehiculo\n2. millaje del vehiculo\n3. condición del vehiculo\n\n\nAl comparar los tipos de transmisión en los vehiculos de tipo sedan, al tomar en cuenta los valores atípicos, los automaticos tienden a ser los más caros. Estos y los de otro tipo de transmisión tienen rangos de precio similares mientras que los manuales son los de un rango más barato.\n\nA diferenicia de esto, al analizar los de tipo SUV, los de menor precio tienden a ser los automáticos, seguidos de los manuales y los más caros estan clasificados como otros.\n\nAl comparar los precios tomando en cuenta los colores, en ambos vehiculos el color negro tiende a ser más caro y los más baratos son los verdes y cafes. \nEntre los precios altos del sedan se encuentran los colores negro, personalizado, gris, rojo y blanco, seguidos de azul y plateado y finalmente, los de precio más bajo tienden a ser los cafes y verdes.\nEntre los precios altos del SUV estan el negro y naranja y los más bajos son el verde café y azul.",
      "metadata": {}
    }
  ]
}